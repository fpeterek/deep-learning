{
  "cells": [
    {
      "cell_type": "markdown",
      "metadata": {
        "id": "8z4lsdTXjdMG"
      },
      "source": [
        "# Deep Learning - Exercise 1\n",
        "This lecture is about basics of the Tensorflow, we will discuss the minimal example on the MNIST dataset.\n",
        "\n",
        "We also investigate a meaning of the validation sets and different complexity of the model. \n",
        "\n",
        "Moreover, we will look on the regulariozation and we will try to find optimal model for the MNIST dataset that is based on fully connected layers."
      ]
    },
    {
      "cell_type": "markdown",
      "metadata": {
        "tags": [],
        "id": "9IuuAA4Vl01j"
      },
      "source": [
        "![meme01](https://github.com/rasvob/VSB-FEI-Deep-Learning-Exercises/blob/main/images/dl_meme_01.jpg?raw=true \"AI Meme\")"
      ]
    },
    {
      "cell_type": "markdown",
      "metadata": {
        "id": "SCXkXCkBjdMH"
      },
      "source": [
        "[Open in Google colab](https://colab.research.google.com/github/rasvob/VSB-FEI-Deep-Learning-Exercises/blob/main/dl_01.ipynb)\n",
        "[Download from Github](https://github.com/rasvob/VSB-FEI-Deep-Learning-Exercises/blob/main/dl_01.ipynb)\n",
        "\n",
        "##### Remember to set **GPU** runtime in Colab!"
      ]
    },
    {
      "cell_type": "markdown",
      "metadata": {
        "id": "vGYmu2RCjdMH"
      },
      "source": [
        "### Import of the TensorFlow\n",
        "The main version of the TensorFlow (TF) is a in the Version package in the field VERSION\n",
        "Since the TensformFlow 2.0 everything was encapsulaed under the KERAS api."
      ]
    },
    {
      "cell_type": "code",
      "execution_count": 32,
      "metadata": {
        "id": "I798rQYbjdMI",
        "tags": [],
        "colab": {
          "base_uri": "https://localhost:8080/",
          "height": 35
        },
        "outputId": "5335664c-d2be-4cbb-ac5c-294bd359c2a6"
      },
      "outputs": [
        {
          "output_type": "execute_result",
          "data": {
            "text/plain": [
              "'2.11.0'"
            ],
            "application/vnd.google.colaboratory.intrinsic+json": {
              "type": "string"
            }
          },
          "metadata": {},
          "execution_count": 32
        }
      ],
      "source": [
        "import tensorflow as tf\n",
        "import tensorflow.keras as keras\n",
        "import numpy as np\n",
        "import pandas as pd\n",
        "import matplotlib.pyplot as plt\n",
        "from sklearn.tree import DecisionTreeClassifier\n",
        "from sklearn.linear_model import RidgeClassifier\n",
        "from sklearn.metrics import accuracy_score\n",
        "\n",
        "tf.version.VERSION"
      ]
    },
    {
      "cell_type": "markdown",
      "metadata": {
        "id": "LWDIlb9UjdMI"
      },
      "source": [
        "### Import a dataset\n",
        "Datasets are stored in the keras.datasets submodule. Few testing datasets are stored here and installed together with the TF package"
      ]
    },
    {
      "cell_type": "code",
      "execution_count": 33,
      "metadata": {
        "id": "OK0bAkspjdMI",
        "tags": [],
        "colab": {
          "base_uri": "https://localhost:8080/"
        },
        "outputId": "1e742d88-9525-4302-d342-920fd7868153"
      },
      "outputs": [
        {
          "output_type": "stream",
          "name": "stdout",
          "text": [
            "Train data shape:  (60000, 28, 28)\n",
            "Test data shape:   (10000, 28, 28)\n"
          ]
        }
      ],
      "source": [
        "# mnist is the basic dataset with handwritten digits\n",
        "mnist = tf.keras.datasets.mnist\n",
        "\n",
        "# data from any dataset are loaded using the load_Data function\n",
        "(x_train, y_train), (x_test, y_test) = mnist.load_data()\n",
        "\n",
        "# the data are in the form of 28x28 pixes with values 0-255.\n",
        "print('Train data shape: ', x_train.shape)\n",
        "print('Test data shape:  ', x_test.shape)"
      ]
    },
    {
      "cell_type": "markdown",
      "metadata": {
        "id": "7jRqCq9jklBE"
      },
      "source": [
        "The dataset consists of 60,000 training images and 10,000 testing images. All of the are 28x28 pixels. "
      ]
    },
    {
      "cell_type": "markdown",
      "metadata": {
        "id": "ACxVYmJGjdMI"
      },
      "source": [
        "### Lets look on the data how do they look like.\n",
        "Look closely on the value scale - it os from 0 to 255 as usual in grayscale  images."
      ]
    },
    {
      "cell_type": "markdown",
      "metadata": {
        "id": "0xYJvCAol01r"
      },
      "source": [
        "### We can see that the numbers are already centered - you won't see this feature in the real world images often 🙂\n",
        "Some of the images are quite easy to classify but on the other hand there is a lot of noise in the data as well.\n",
        "\n",
        "Take a look at these two examples below? The 1st one is clear, but the 2nd one is 1 or 7?"
      ]
    },
    {
      "cell_type": "code",
      "execution_count": 34,
      "metadata": {
        "id": "OZaKJJf3jdMJ",
        "tags": [],
        "colab": {
          "base_uri": "https://localhost:8080/",
          "height": 265
        },
        "outputId": "bbbf402f-682c-48da-897e-48926559ac98"
      },
      "outputs": [
        {
          "output_type": "display_data",
          "data": {
            "text/plain": [
              "<Figure size 432x288 with 2 Axes>"
            ],
            "image/png": "[encoded data removed]"
          },
          "metadata": {
            "needs_background": "light"
          }
        }
      ],
      "source": [
        "plt.figure()\n",
        "plt.imshow(x_train[12])\n",
        "plt.colorbar()\n",
        "plt.grid(False)\n",
        "plt.show()"
      ]
    },
    {
      "cell_type": "code",
      "execution_count": 35,
      "metadata": {
        "tags": [],
        "colab": {
          "base_uri": "https://localhost:8080/",
          "height": 265
        },
        "id": "5JNeqDxsl01t",
        "outputId": "6dc33a0b-ee76-4ece-ca25-0ce8d15568bb"
      },
      "outputs": [
        {
          "output_type": "display_data",
          "data": {
            "text/plain": [
              "<Figure size 432x288 with 2 Axes>"
            ],
            "image/png": "[encoded data removed]"
          },
          "metadata": {
            "needs_background": "light"
          }
        }
      ],
      "source": [
        "plt.figure()\n",
        "plt.imshow(x_train[42])\n",
        "plt.colorbar()\n",
        "plt.grid(False)\n",
        "plt.show()"
      ]
    },
    {
      "cell_type": "markdown",
      "metadata": {
        "id": "7Z_rfPvrjdMJ"
      },
      "source": [
        "### The conversion into range 0-1 is done by the division\n",
        "* Lets normalize the values into the range \\(0,1\\) by dividing it 255.\n",
        "\n",
        "* Why is this step helpful? (Hint: input magnitude and weights)"
      ]
    },
    {
      "cell_type": "code",
      "execution_count": 36,
      "metadata": {
        "id": "hCNrX5rqjdMJ",
        "tags": []
      },
      "outputs": [],
      "source": [
        "# The conversion into range 0-1 is done by the division\n",
        "x_train, x_test = x_train / 255.0, x_test / 255.0"
      ]
    },
    {
      "cell_type": "markdown",
      "metadata": {
        "id": "tyhe6lUKjdMJ"
      },
      "source": [
        "### Make better visualization of the data to better understand how complex they are\n",
        "* You can see that \"noisy\" digit and different handwriting style is really no exception"
      ]
    },
    {
      "cell_type": "code",
      "execution_count": 37,
      "metadata": {
        "id": "dIf8LNL7jdMJ",
        "tags": [],
        "colab": {
          "base_uri": "https://localhost:8080/",
          "height": 592
        },
        "outputId": "c890fc74-326e-425e-ddaa-1cc42077b3d5"
      },
      "outputs": [
        {
          "output_type": "display_data",
          "data": {
            "text/plain": [
              "<Figure size 720x720 with 25 Axes>"
            ],
            "image/png": "[encoded data removed]"
          },
          "metadata": {}
        }
      ],
      "source": [
        "class_names = [str(x) for x in range(10)]\n",
        "\n",
        "plt.figure(figsize=(10,10))\n",
        "for i in range(25):\n",
        "    plt.subplot(5,5,i+1)\n",
        "    plt.xticks([])\n",
        "    plt.yticks([])\n",
        "    plt.grid(False)\n",
        "    plt.imshow(x_train[i], cmap=plt.cm.binary)\n",
        "    plt.xlabel(class_names[y_train[i]])\n",
        "plt.show()"
      ]
    },
    {
      "cell_type": "markdown",
      "metadata": {
        "id": "fjRIH5mvl01w"
      },
      "source": [
        "## Before we dive in the deep learning territory, let's try to create some baseline model using a machine learning model so we can compare the approaches\n",
        "* Are ML models capable of processing image data?\n",
        "* How to deal with a matrix input?"
      ]
    },
    {
      "cell_type": "code",
      "execution_count": 38,
      "metadata": {
        "tags": [],
        "colab": {
          "base_uri": "https://localhost:8080/",
          "height": 75
        },
        "id": "k24ymhpgl01x",
        "outputId": "f91a2097-e556-4c15-8a9f-d6f8b912c0dd"
      },
      "outputs": [
        {
          "output_type": "execute_result",
          "data": {
            "text/plain": [
              "DecisionTreeClassifier()"
            ],
            "text/html": [
              "<style>#sk-container-id-2 {color: black;background-color: white;}#sk-container-id-2 pre{padding: 0;}#sk-container-id-2 div.sk-toggleable {background-color: white;}#sk-container-id-2 label.sk-toggleable__label {cursor: pointer;display: block;width: 100%;margin-bottom: 0;padding: 0.3em;box-sizing: border-box;text-align: center;}#sk-container-id-2 label.sk-toggleable__label-arrow:before {content: \"▸\";float: left;margin-right: 0.25em;color: #696969;}#sk-container-id-2 label.sk-toggleable__label-arrow:hover:before {color: black;}#sk-container-id-2 div.sk-estimator:hover label.sk-toggleable__label-arrow:before {color: black;}#sk-container-id-2 div.sk-toggleable__content {max-height: 0;max-width: 0;overflow: hidden;text-align: left;background-color: #f0f8ff;}#sk-container-id-2 div.sk-toggleable__content pre {margin: 0.2em;color: black;border-radius: 0.25em;background-color: #f0f8ff;}#sk-container-id-2 input.sk-toggleable__control:checked~div.sk-toggleable__content {max-height: 200px;max-width: 100%;overflow: auto;}#sk-container-id-2 input.sk-toggleable__control:checked~label.sk-toggleable__label-arrow:before {content: \"▾\";}#sk-container-id-2 div.sk-estimator input.sk-toggleable__control:checked~label.sk-toggleable__label {background-color: #d4ebff;}#sk-container-id-2 div.sk-label input.sk-toggleable__control:checked~label.sk-toggleable__label {background-color: #d4ebff;}#sk-container-id-2 input.sk-hidden--visually {border: 0;clip: rect(1px 1px 1px 1px);clip: rect(1px, 1px, 1px, 1px);height: 1px;margin: -1px;overflow: hidden;padding: 0;position: absolute;width: 1px;}#sk-container-id-2 div.sk-estimator {font-family: monospace;background-color: #f0f8ff;border: 1px dotted black;border-radius: 0.25em;box-sizing: border-box;margin-bottom: 0.5em;}#sk-container-id-2 div.sk-estimator:hover {background-color: #d4ebff;}#sk-container-id-2 div.sk-parallel-item::after {content: \"\";width: 100%;border-bottom: 1px solid gray;flex-grow: 1;}#sk-container-id-2 div.sk-label:hover label.sk-toggleable__label {background-color: #d4ebff;}#sk-container-id-2 div.sk-serial::before {content: \"\";position: absolute;border-left: 1px solid gray;box-sizing: border-box;top: 0;bottom: 0;left: 50%;z-index: 0;}#sk-container-id-2 div.sk-serial {display: flex;flex-direction: column;align-items: center;background-color: white;padding-right: 0.2em;padding-left: 0.2em;position: relative;}#sk-container-id-2 div.sk-item {position: relative;z-index: 1;}#sk-container-id-2 div.sk-parallel {display: flex;align-items: stretch;justify-content: center;background-color: white;position: relative;}#sk-container-id-2 div.sk-item::before, #sk-container-id-2 div.sk-parallel-item::before {content: \"\";position: absolute;border-left: 1px solid gray;box-sizing: border-box;top: 0;bottom: 0;left: 50%;z-index: -1;}#sk-container-id-2 div.sk-parallel-item {display: flex;flex-direction: column;z-index: 1;position: relative;background-color: white;}#sk-container-id-2 div.sk-parallel-item:first-child::after {align-self: flex-end;width: 50%;}#sk-container-id-2 div.sk-parallel-item:last-child::after {align-self: flex-start;width: 50%;}#sk-container-id-2 div.sk-parallel-item:only-child::after {width: 0;}#sk-container-id-2 div.sk-dashed-wrapped {border: 1px dashed gray;margin: 0 0.4em 0.5em 0.4em;box-sizing: border-box;padding-bottom: 0.4em;background-color: white;}#sk-container-id-2 div.sk-label label {font-family: monospace;font-weight: bold;display: inline-block;line-height: 1.2em;}#sk-container-id-2 div.sk-label-container {text-align: center;}#sk-container-id-2 div.sk-container {/* jupyter's `normalize.less` sets `[hidden] { display: none; }` but bootstrap.min.css set `[hidden] { display: none !important; }` so we also need the `!important` here to be able to override the default hidden behavior on the sphinx rendered scikit-learn.org. See: https://github.com/scikit-learn/scikit-learn/issues/21755 */display: inline-block !important;position: relative;}#sk-container-id-2 div.sk-text-repr-fallback {display: none;}</style><div id=\"sk-container-id-2\" class=\"sk-top-container\"><div class=\"sk-text-repr-fallback\"><pre>DecisionTreeClassifier()</pre><b>In a Jupyter environment, please rerun this cell to show the HTML representation or trust the notebook. <br />On GitHub, the HTML representation is unable to render, please try loading this page with nbviewer.org.</b></div><div class=\"sk-container\" hidden><div class=\"sk-item\"><div class=\"sk-estimator sk-toggleable\"><input class=\"sk-toggleable__control sk-hidden--visually\" id=\"sk-estimator-id-2\" type=\"checkbox\" checked><label for=\"sk-estimator-id-2\" class=\"sk-toggleable__label sk-toggleable__label-arrow\">DecisionTreeClassifier</label><div class=\"sk-toggleable__content\"><pre>DecisionTreeClassifier()</pre></div></div></div></div></div>"
            ]
          },
          "metadata": {},
          "execution_count": 38
        }
      ],
      "source": [
        "alg = DecisionTreeClassifier()\n",
        "alg.fit(x_train.reshape(-1, 28*28), y_train)"
      ]
    },
    {
      "cell_type": "code",
      "execution_count": 39,
      "metadata": {
        "tags": [],
        "id": "PlqYbq4ol01x"
      },
      "outputs": [],
      "source": [
        "y_pred = alg.predict(x_test.reshape(-1, 28*28))"
      ]
    },
    {
      "cell_type": "code",
      "execution_count": 40,
      "metadata": {
        "tags": [],
        "colab": {
          "base_uri": "https://localhost:8080/"
        },
        "id": "rg-Ouz-Kl01y",
        "outputId": "34eac9ce-36ad-4d2f-ee7b-422e0d414ac4"
      },
      "outputs": [
        {
          "output_type": "execute_result",
          "data": {
            "text/plain": [
              "array([7, 2, 1, ..., 4, 5, 6], dtype=uint8)"
            ]
          },
          "metadata": {},
          "execution_count": 40
        }
      ],
      "source": [
        "y_pred"
      ]
    },
    {
      "cell_type": "code",
      "execution_count": 41,
      "metadata": {
        "tags": [],
        "colab": {
          "base_uri": "https://localhost:8080/"
        },
        "id": "35Xp_Ks0l01y",
        "outputId": "89a0d797-e036-447b-cc60-e3dd93735db3"
      },
      "outputs": [
        {
          "output_type": "execute_result",
          "data": {
            "text/plain": [
              "0.8786"
            ]
          },
          "metadata": {},
          "execution_count": 41
        }
      ],
      "source": [
        "accuracy_score(y_true=y_test, y_pred=y_pred)"
      ]
    },
    {
      "cell_type": "markdown",
      "metadata": {
        "id": "IcytaJeNl01z"
      },
      "source": [
        "### We can see that we were able to create a classifier very easily.\n",
        "* However it is no secret, that DL models accuracy on MNIST can be >= 98% even with simple architecture\n",
        "* Given the fact, our result is not very impresive 🙂"
      ]
    },
    {
      "cell_type": "markdown",
      "metadata": {
        "id": "H3uY8cfbjdMJ"
      },
      "source": [
        "## Basic model - a NN with very simple hierarchy\n",
        "* Model is created using layers, many layers exists in the [layer submodule](https://www.tensorflow.org/api_docs/python/tf/keras/layers)\n",
        "* Each layer uses a activation functions collected in the [module nn](https://www.tensorflow.org/api_docs/python/tf/nn)\n",
        " \n",
        "#### There are 2 ways of using the Keras API, Sequential and Functional, we will start with the sequential one\n",
        "\n",
        "* Why do we use activation functions?\n",
        "* How is ANN different from lin. regression?\n",
        "\n",
        "## Let's design our first ANN\n",
        "* Can you draw such network on a table?"
      ]
    },
    {
      "cell_type": "code",
      "execution_count": 42,
      "metadata": {
        "id": "4FRfWkocjdMK",
        "tags": [],
        "colab": {
          "base_uri": "https://localhost:8080/"
        },
        "outputId": "a3181230-9796-44b0-c601-5207f2dafadd"
      },
      "outputs": [
        {
          "output_type": "stream",
          "name": "stdout",
          "text": [
            "Model: \"sequential_1\"\n",
            "_________________________________________________________________\n",
            " Layer (type)                Output Shape              Param #   \n",
            "=================================================================\n",
            " flatten_4 (Flatten)         (None, 784)               0         \n",
            "                                                                 \n",
            " dense_8 (Dense)             (None, 32)                25120     \n",
            "                                                                 \n",
            " dense_9 (Dense)             (None, 10)                330       \n",
            "                                                                 \n",
            "=================================================================\n",
            "Total params: 25,450\n",
            "Trainable params: 25,450\n",
            "Non-trainable params: 0\n",
            "_________________________________________________________________\n"
          ]
        }
      ],
      "source": [
        "model = keras.Sequential([\n",
        "    keras.layers.Flatten(input_shape=(28, 28)),# Flatten module flatten the multidimension input into single vector 28x28 = 784 float numbers\n",
        "    keras.layers.Dense(32, activation=tf.nn.relu), # standard dense-fully connected layer with the rectified lineaar function as an activation\n",
        "    keras.layers.Dense(10, activation=tf.nn.softmax), # another fully-connected layer with softmax activation function\n",
        "])\n",
        "\n",
        "model.summary() # prints the summary of the model"
      ]
    },
    {
      "cell_type": "markdown",
      "metadata": {
        "id": "G-40PLkLl011"
      },
      "source": [
        "### What is the meaning of the *Total params* number?"
      ]
    },
    {
      "cell_type": "markdown",
      "metadata": {
        "id": "XxkeKMLdjdMK"
      },
      "source": [
        "### Compilation of the model\n",
        "Each model need to be compiled to be able to fit to the data and predict the labels\n",
        "\n",
        "#### Optimizers\n",
        "\n",
        "* There are many optimizers available, you can experiment with different algorithms, most of them are based on gradient descent algorithm\n",
        "* And of course gradient descent is not a limit, gradient-free methods are available as well, e.g. [Nevergrad library by META](https://github.com/facebookresearch/nevergrad)\n",
        "\n",
        "**Selected optimizers:**\n",
        "* Gradient descent\n",
        "   * Works for the whole dataset and it is not suitable for large data\n",
        "* Stochastic Gradiend Descent (SGD)\n",
        "   * Approximate the real gradiend from selested subset of data (Stochasticity)\n",
        "* Root Mean Square Propagation (RMSPRop)\n",
        "   * Adapts the learnign rate with the running average of the recent gradients.\n",
        "* Adamptive Moment Estimation (ADAM)\n",
        "   * Averages gradients and secodn moment of the gradient and adapts the learning rate.\n",
        "\n",
        "#### Loss functions\n",
        "**Training of the ANN is about weights optimization. We need to some formula that says us if the optimization process is making the ANN better or not.**\n",
        "\n",
        "**The choice of a loss function depends on tha task and network architecture. Below are the most common loss functions mentioned.**\n",
        "\n",
        "* Mean Squared Error\n",
        "   * a classical measure to be used in regression\n",
        "   * a logarithmic version exists\n",
        "* Mean Absolute Error (MAE)\n",
        "   * take an absolute values instead of their squared version\n",
        "* Binary classification Loss\n",
        "   * a loss for binary problems only\n",
        "   * predicts the probability of the class 1\n",
        "* Binary Cross-Entropy\n",
        "   * predict the class from the set {0,1}\n",
        "   * requires a sigmoind activation function\n",
        "* Categorical Cross-Entropy\n",
        "   * default for mutli-class classification problems\n",
        "   * requires the softmax function on output layer to compute probability of each layer\n",
        "   * train labels have to be one-hot-encoded\n",
        "* Sparse Categorical Cross-Entropy\n",
        "   * the same as above but the tran lables are just labels not encoded.\n",
        "\n",
        "#### Metrics\n",
        "**Used metrics for the model prediction accuracy evaluation are the same as in the ML area, i.e. accuracy, f1-score, recall, etc. The choice depends on the task and the labels distribution.**\n",
        "\n",
        "### Do you remember in which cases is the *accuracy* metric not a best choice? Which metrics are more suitable for these cases?\n",
        "\n",
        "* Regression metrics\n",
        "   * Mean Squared Error (MSE)\n",
        "   * Mean Absolute Error (MAE)\n",
        "   * Mean Absolute Percentage Error (MAPE)\n",
        "* Classification metrics\n",
        "   * Binary Accuracy\n",
        "   * Categorical Accuracy\n",
        "   * Sparse Categorical Accuracy\n",
        "   * Top k Categorical Accuracy\n",
        "   * Sparse Top k Categorical Accuracy\n",
        "   * Accuracy - a general version that is modified based on the data analyzed autmatically"
      ]
    },
    {
      "cell_type": "markdown",
      "metadata": {
        "id": "XzKasrbgl012"
      },
      "source": [
        "## We can compile the model now, we will use the accuracy metric\n",
        "* Why do we use SparseCategoricalCrossentropy? What is from_logits parameter?\n",
        "\n",
        "* SparseCategoricalCrossentropy = We expect labels to be provided as integers.\n",
        "\n",
        "The output of the Dense layer will either return:\n",
        "* probabilities: The output is passed through a SoftMax function which normalizes the output into a set of probabilities over n, that all add up to 1.\n",
        "* logits: n activations.\n",
        "\n",
        "Your loss function has to be informed as to whether it should expect a normalized distribution (output passed through a SoftMax function) or logits. \n",
        "If your output layer has a 'softmax' activation, from_logits should be False. If your output layer doesn't have a 'softmax' activation, from_logits should be True."
      ]
    },
    {
      "cell_type": "code",
      "execution_count": 43,
      "metadata": {
        "id": "1rh03ZvLjdMK",
        "tags": []
      },
      "outputs": [],
      "source": [
        "model.compile(optimizer='adam',\n",
        "    loss = keras.losses.SparseCategoricalCrossentropy(from_logits=False),\n",
        "    metrics = ['accuracy'],\n",
        "    )"
      ]
    },
    {
      "cell_type": "markdown",
      "metadata": {
        "id": "lA09suMrjdMK"
      },
      "source": [
        "### Model visualization\n",
        "Model then compiles and it is ready for fitting to the data. \n",
        "\n",
        "The model may be printed into image like the following image of our model:\n",
        "\n",
        "<!-- ![model](https://github.com/jplatos/2019-2020-DA4/raw/master/images/da4_01_base.png \"Base model of the neural network\") -->"
      ]
    },
    {
      "cell_type": "code",
      "execution_count": 44,
      "metadata": {
        "id": "RAKg-e-OjdML",
        "tags": [],
        "colab": {
          "base_uri": "https://localhost:8080/",
          "height": 422
        },
        "outputId": "7feb260f-3b93-4253-bd0e-41c6517ae942"
      },
      "outputs": [
        {
          "output_type": "execute_result",
          "data": {
            "image/png": "[encoded data removed]",
            "text/plain": [
              "<IPython.core.display.Image object>"
            ]
          },
          "metadata": {},
          "execution_count": 44
        }
      ],
      "source": [
        "keras.utils.plot_model(model, show_shapes=True)"
      ]
    },
    {
      "cell_type": "markdown",
      "metadata": {
        "id": "An4hyfD7jdML"
      },
      "source": [
        "# Now we can fit the model to the input data\n",
        "* The *fit()* method fit the model to the data, the parameters are *data* and *labels* from the train set and number of *epoch* to be trained.\n",
        "* The *validation_split* parameter is also very common. What does the parameter do?\n",
        "    * What is the validation set? How is it different from the test set?\n",
        "\n",
        "## FAQ section 🙂\n",
        "* How does the ANN training procedure look like?\n",
        "* What is the *epoch*?\n",
        "* What is the *batch*?\n",
        "* Why do we use batches? \n",
        "    * Is possible to have batch of size *len(data)* or os size *1*? \n",
        "    * What are caveates of these cases?\n",
        "\n",
        "\n"
      ]
    },
    {
      "cell_type": "markdown",
      "metadata": {
        "id": "2lh1AHY4l013"
      },
      "source": [
        "# Define the callbacks\n",
        "* Always use ModelCheckpoint callback so you overcome the possible overfitting in the last few epochs!\n",
        "### The .fit() API is pretty powerful\n",
        "- It is common to use some sort of a callback, we will use ModelCheckpoint callback which saves the best weights configuration obtained during training so the overfitting at the final phase of training will be suppressed\n",
        "\n",
        "- **The best weights are determined using the validation loss value**"
      ]
    },
    {
      "cell_type": "code",
      "execution_count": 45,
      "metadata": {
        "id": "NUzeNn2JjdML",
        "tags": []
      },
      "outputs": [],
      "source": [
        "model_checkpoint_callback = tf.keras.callbacks.ModelCheckpoint(\n",
        "    filepath='weights.best.hdf5',\n",
        "    save_weights_only=True,\n",
        "    monitor='val_loss',\n",
        "    mode='auto',\n",
        "    save_best_only=True)"
      ]
    },
    {
      "cell_type": "markdown",
      "metadata": {
        "id": "3L2Q6kqNl014"
      },
      "source": [
        "# Fit the model"
      ]
    },
    {
      "cell_type": "code",
      "execution_count": 46,
      "metadata": {
        "id": "ixodDENSjdML",
        "tags": [],
        "colab": {
          "base_uri": "https://localhost:8080/"
        },
        "outputId": "3a94fb3f-539b-4d77-fe08-4955d6072277"
      },
      "outputs": [
        {
          "output_type": "stream",
          "name": "stdout",
          "text": [
            "Epoch 1/3\n",
            "375/375 [==============================] - 2s 4ms/step - loss: 0.5498 - accuracy: 0.8492 - val_loss: 0.2830 - val_accuracy: 0.9215\n",
            "Epoch 2/3\n",
            "375/375 [==============================] - 1s 3ms/step - loss: 0.2681 - accuracy: 0.9246 - val_loss: 0.2280 - val_accuracy: 0.9364\n",
            "Epoch 3/3\n",
            "375/375 [==============================] - 1s 3ms/step - loss: 0.2198 - accuracy: 0.9373 - val_loss: 0.2020 - val_accuracy: 0.9434\n"
          ]
        }
      ],
      "source": [
        "history = model.fit(x_train, y_train, validation_split=0.2, epochs=3, callbacks=[model_checkpoint_callback], batch_size=128)"
      ]
    },
    {
      "cell_type": "markdown",
      "metadata": {
        "tags": [],
        "id": "4-HFL6hGl015"
      },
      "source": [
        "# Let's take a look at the accuracy and loss function values for both - the train and validation set\n",
        "* What can you see in the plot?\n",
        "* Is OK that loss is getting lower and accuracy higher?\n",
        "    * Can the loss function value go higher? \n",
        "* What if the training set loss is getting lower, but validation set loss higher? \n",
        "    * How do we call this situation?"
      ]
    },
    {
      "cell_type": "code",
      "execution_count": 47,
      "metadata": {
        "id": "Wj3duiFljdML",
        "tags": [],
        "colab": {
          "base_uri": "https://localhost:8080/",
          "height": 297
        },
        "outputId": "76ce813f-e26f-42ab-b8e6-ec7094d40ef2"
      },
      "outputs": [
        {
          "output_type": "display_data",
          "data": {
            "text/plain": [
              "<Figure size 432x288 with 1 Axes>"
            ],
            "image/png": "[encoded data removed]"
          },
          "metadata": {
            "needs_background": "light"
          }
        }
      ],
      "source": [
        "plt.figure()\n",
        "for key in history.history.keys():\n",
        "    plt.plot(history.epoch, history.history[key], label=key)\n",
        "plt.legend()\n",
        "plt.tight_layout()"
      ]
    },
    {
      "cell_type": "markdown",
      "metadata": {
        "id": "HZ7GIE6zl016"
      },
      "source": [
        "# Beware that ANN are prone to overfitting!\n",
        "\n",
        "### How does overfit look like?\n",
        "* Y axis = Accuracy\n",
        "* X axis = Epoch\n",
        "![overfit](https://github.com/rasvob/VSB-FEI-Deep-Learning-Exercises/blob/main/images/overfit_acc.png?raw=true \"Overfit\")"
      ]
    },
    {
      "cell_type": "markdown",
      "metadata": {
        "id": "remow-Stl016"
      },
      "source": [
        "# How can we solve the overfitting issue?\n",
        "\n",
        "### 1 - Use simpler model\n",
        "* The model often overfit because there is a lot of parameters for the amount of input data\n",
        "\n",
        "### 2 - Use Dropout layer\n",
        "- Node sampling instead of edge sampling \n",
        "- If a node is dropped, then all incoming and outgoing connections from that node need to be dropped as well\n",
        "- We sample sub-networks from the original one - basically ensemble of networks\n",
        "- There won't be some \"alpha\" node in the individual layer with huge weight coefficient\n",
        "    - Responsibility for prediction will be shared among multiple nodes\n",
        "\n",
        "![dropout](https://github.com/rasvob/2020-21-ARD/raw/master/images/dropout.jpeg \"Dropout\")\n",
        "\n",
        "## Keras API\n",
        "- keras.layers.Dropout(0.5)\n",
        "- Take a look [here](https://www.tensorflow.org/api_docs/python/tf/keras/layers/Dropout)"
      ]
    },
    {
      "cell_type": "markdown",
      "metadata": {
        "id": "O3hqCxJ8jdML"
      },
      "source": [
        "## Beware that the best weights needs to be loaded after the training is finished!\n",
        "* **Otherwise you use the weights from the last epoch!**"
      ]
    },
    {
      "cell_type": "code",
      "execution_count": 48,
      "metadata": {
        "id": "rkuf66s5jdML",
        "tags": []
      },
      "outputs": [],
      "source": [
        "model.load_weights(\"weights.best.hdf5\")"
      ]
    },
    {
      "cell_type": "markdown",
      "metadata": {
        "id": "_M1GVLjQl017"
      },
      "source": [
        "## Now we can use *evaluate()* function for obtaining the accuracy using the test set"
      ]
    },
    {
      "cell_type": "markdown",
      "metadata": {
        "tags": [],
        "id": "kLgE1Qd_l017"
      },
      "source": [
        "![meme02](https://github.com/rasvob/VSB-FEI-Deep-Learning-Exercises/blob/main/images/dl_meme_02.jpg?raw=true \"AI Meme 02\")"
      ]
    },
    {
      "cell_type": "code",
      "execution_count": 49,
      "metadata": {
        "id": "x0QAkwi7jdMM",
        "tags": [],
        "colab": {
          "base_uri": "https://localhost:8080/"
        },
        "outputId": "b4246106-bcea-4241-b78b-c56c22748eb2"
      },
      "outputs": [
        {
          "output_type": "stream",
          "name": "stdout",
          "text": [
            "313/313 [==============================] - 1s 3ms/step - loss: 0.1991 - accuracy: 0.9418\n",
            "Test accuracy:  0.9417999982833862\n"
          ]
        }
      ],
      "source": [
        "test_loss, test_acc = model.evaluate(x_test, y_test)\n",
        "print('Test accuracy: ', test_acc)"
      ]
    },
    {
      "cell_type": "markdown",
      "metadata": {
        "id": "MTjloxgRl017"
      },
      "source": [
        "# Can we obtain the labels and use it for our own evaluation without Keras? Sure!"
      ]
    },
    {
      "cell_type": "markdown",
      "metadata": {
        "id": "5h3XFYtRl017"
      },
      "source": [
        "## We will obtain the raw softmax outputs\n",
        "* What is the range of the vector values?\n",
        "* Do they sum-up to some number?"
      ]
    },
    {
      "cell_type": "code",
      "execution_count": 50,
      "metadata": {
        "tags": [],
        "colab": {
          "base_uri": "https://localhost:8080/"
        },
        "id": "0-YkaPwvl017",
        "outputId": "26e48fd3-b9e0-419d-c16a-11facab6987a"
      },
      "outputs": [
        {
          "output_type": "stream",
          "name": "stdout",
          "text": [
            "313/313 [==============================] - 1s 2ms/step\n"
          ]
        }
      ],
      "source": [
        "y_pred_proba = model.predict(x_test)"
      ]
    },
    {
      "cell_type": "code",
      "execution_count": 51,
      "metadata": {
        "tags": [],
        "colab": {
          "base_uri": "https://localhost:8080/"
        },
        "id": "inf8l72Kl018",
        "outputId": "aa52a151-880e-40ca-95a4-820fd5369e43"
      },
      "outputs": [
        {
          "output_type": "execute_result",
          "data": {
            "text/plain": [
              "array([3.2928860e-05, 2.2721451e-08, 2.5733892e-04, 2.8485786e-03,\n",
              "       6.5330715e-07, 7.7555551e-06, 7.6183468e-08, 9.9648917e-01,\n",
              "       4.8692949e-05, 3.1471247e-04], dtype=float32)"
            ]
          },
          "metadata": {},
          "execution_count": 51
        }
      ],
      "source": [
        "y_pred_proba[0]"
      ]
    },
    {
      "cell_type": "code",
      "execution_count": 52,
      "metadata": {
        "tags": [],
        "colab": {
          "base_uri": "https://localhost:8080/"
        },
        "id": "t21lYnZ0l018",
        "outputId": "24a2365d-e251-44d7-870c-75b60d24ec63"
      },
      "outputs": [
        {
          "output_type": "execute_result",
          "data": {
            "text/plain": [
              "0.9999999"
            ]
          },
          "metadata": {},
          "execution_count": 52
        }
      ],
      "source": [
        "np.sum(y_pred_proba[0])"
      ]
    },
    {
      "cell_type": "markdown",
      "metadata": {
        "id": "U19Ym47Ql019"
      },
      "source": [
        "## Now we can extract the index of the highest probability and get the labels"
      ]
    },
    {
      "cell_type": "code",
      "execution_count": 53,
      "metadata": {
        "tags": [],
        "id": "cxtQA6nwl019"
      },
      "outputs": [],
      "source": [
        "y_pred = np.argmax(y_pred_proba, axis=1)"
      ]
    },
    {
      "cell_type": "code",
      "execution_count": 54,
      "metadata": {
        "tags": [],
        "colab": {
          "base_uri": "https://localhost:8080/"
        },
        "id": "X_0zjcFMl019",
        "outputId": "9e4147e4-b212-4812-a0c1-8abd807f1969"
      },
      "outputs": [
        {
          "output_type": "execute_result",
          "data": {
            "text/plain": [
              "array([7, 2, 1, ..., 4, 5, 6])"
            ]
          },
          "metadata": {},
          "execution_count": 54
        }
      ],
      "source": [
        "y_pred"
      ]
    },
    {
      "cell_type": "markdown",
      "metadata": {
        "tags": [],
        "id": "OcEgoKGPl01-"
      },
      "source": [
        "# Is the model any better than the ML baseline?"
      ]
    },
    {
      "cell_type": "code",
      "execution_count": 55,
      "metadata": {
        "tags": [],
        "colab": {
          "base_uri": "https://localhost:8080/"
        },
        "id": "BWtxaORFl01-",
        "outputId": "4736de58-939e-4757-b628-6c03328e78ec"
      },
      "outputs": [
        {
          "output_type": "execute_result",
          "data": {
            "text/plain": [
              "0.9418"
            ]
          },
          "metadata": {},
          "execution_count": 55
        }
      ],
      "source": [
        "accuracy_score(y_true=y_test, y_pred=y_pred)"
      ]
    },
    {
      "cell_type": "markdown",
      "metadata": {
        "id": "0ta55NPzl01-"
      },
      "source": [
        "# We can now re-build the same network using a Functional API\n",
        "* You can use any API that you like however I recomment the **Functional** one as it is more versatile, e.g. building ANN architecture with skip-connect synaptic links"
      ]
    },
    {
      "cell_type": "code",
      "execution_count": 56,
      "metadata": {
        "tags": [],
        "colab": {
          "base_uri": "https://localhost:8080/"
        },
        "id": "wFxYTroll01_",
        "outputId": "84a852ce-f4bf-4113-99cb-84f5beaba550"
      },
      "outputs": [
        {
          "output_type": "stream",
          "name": "stdout",
          "text": [
            "Model: \"model_3\"\n",
            "_________________________________________________________________\n",
            " Layer (type)                Output Shape              Param #   \n",
            "=================================================================\n",
            " input_4 (InputLayer)        [(None, 28, 28)]          0         \n",
            "                                                                 \n",
            " flatten_5 (Flatten)         (None, 784)               0         \n",
            "                                                                 \n",
            " dense_10 (Dense)            (None, 32)                25120     \n",
            "                                                                 \n",
            " dense_11 (Dense)            (None, 10)                330       \n",
            "                                                                 \n",
            "=================================================================\n",
            "Total params: 25,450\n",
            "Trainable params: 25,450\n",
            "Non-trainable params: 0\n",
            "_________________________________________________________________\n"
          ]
        }
      ],
      "source": [
        "ann_input = keras.layers.Input(shape=(28, 28))\n",
        "flatten = keras.layers.Flatten()(ann_input)\n",
        "hidden = keras.layers.Dense(32, activation=tf.nn.relu)(flatten)\n",
        "ann_output = keras.layers.Dense(10, activation=tf.nn.softmax)(hidden)\n",
        "\n",
        "model = keras.Model(ann_input, ann_output)\n",
        "\n",
        "model.compile(optimizer='adam',\n",
        "    loss = keras.losses.SparseCategoricalCrossentropy(from_logits=False),\n",
        "    metrics = ['accuracy'],\n",
        "    )\n",
        "\n",
        "model.summary()"
      ]
    },
    {
      "cell_type": "markdown",
      "metadata": {
        "id": "WndrtVZxl01_"
      },
      "source": [
        "## The rest is the same"
      ]
    },
    {
      "cell_type": "code",
      "execution_count": 57,
      "metadata": {
        "tags": [],
        "colab": {
          "base_uri": "https://localhost:8080/"
        },
        "id": "qhLaylNml01_",
        "outputId": "dd20879f-b729-4c37-db32-f6a8a6cd9308"
      },
      "outputs": [
        {
          "output_type": "stream",
          "name": "stdout",
          "text": [
            "Epoch 1/3\n",
            "375/375 [==============================] - 3s 5ms/step - loss: 0.5555 - accuracy: 0.8483 - val_loss: 0.2783 - val_accuracy: 0.9215\n",
            "Epoch 2/3\n",
            "375/375 [==============================] - 1s 4ms/step - loss: 0.2617 - accuracy: 0.9252 - val_loss: 0.2253 - val_accuracy: 0.9374\n",
            "Epoch 3/3\n",
            "375/375 [==============================] - 1s 3ms/step - loss: 0.2147 - accuracy: 0.9371 - val_loss: 0.1968 - val_accuracy: 0.9436\n",
            "313/313 [==============================] - 1s 2ms/step - loss: 0.1955 - accuracy: 0.9411\n",
            "Test accuracy:  0.941100001335144\n"
          ]
        }
      ],
      "source": [
        "model_checkpoint_callback = tf.keras.callbacks.ModelCheckpoint(\n",
        "    filepath='weights.best.hdf5',\n",
        "    save_weights_only=True,\n",
        "    monitor='val_loss',\n",
        "    mode='auto',\n",
        "    save_best_only=True)\n",
        "\n",
        "history = model.fit(x_train, y_train, validation_split=0.2, epochs=3, callbacks=[model_checkpoint_callback], batch_size=128)\n",
        "model.load_weights(\"weights.best.hdf5\")\n",
        "\n",
        "test_loss, test_acc = model.evaluate(x_test, y_test)\n",
        "print('Test accuracy: ', test_acc)"
      ]
    },
    {
      "cell_type": "markdown",
      "metadata": {
        "id": "6_S4ElRSl02A"
      },
      "source": [
        "# Now you have the model fully trained and now can be used for inference\n",
        "* Imagine you want to use DL model in you web app, how would you do it? \n",
        "* Can you name some use cases for the DL models?\n",
        "\n",
        "1) You can save the model to file so you don't need to train the model each time you want to use it\n",
        "2) You can then just load the trained model and use is for inference"
      ]
    },
    {
      "cell_type": "markdown",
      "metadata": {
        "id": "OEu-ajuil02A"
      },
      "source": [
        "## Save the model\n",
        "* Folder *mnist_model* will be created for the model data"
      ]
    },
    {
      "cell_type": "code",
      "execution_count": 58,
      "metadata": {
        "tags": [],
        "id": "43KIm8nYl02A"
      },
      "outputs": [],
      "source": [
        "model.save('mnist_model')"
      ]
    },
    {
      "cell_type": "markdown",
      "metadata": {
        "id": "Gzn2NJSBl02A"
      },
      "source": [
        "## Load the model back to memory and test the function"
      ]
    },
    {
      "cell_type": "code",
      "execution_count": 59,
      "metadata": {
        "tags": [],
        "colab": {
          "base_uri": "https://localhost:8080/"
        },
        "id": "FSyEiI7Sl02B",
        "outputId": "2d5bc940-1505-4660-acf4-fdb2b3760720"
      },
      "outputs": [
        {
          "output_type": "stream",
          "name": "stdout",
          "text": [
            "313/313 [==============================] - 1s 3ms/step - loss: 0.1955 - accuracy: 0.9411\n",
            "Test accuracy:  0.941100001335144\n"
          ]
        }
      ],
      "source": [
        "loaded_model = keras.models.load_model('mnist_model')\n",
        "test_loss, test_acc = model.evaluate(x_test, y_test)\n",
        "print('Test accuracy: ', test_acc)"
      ]
    },
    {
      "cell_type": "markdown",
      "metadata": {
        "tags": [],
        "id": "An9sAda_l02B"
      },
      "source": [
        "# Tasks for the rest of the lecture (2p)\n",
        "* Experiment with batch_sizes, use these two settings and compare the results (e.g. compare training time and accuracy) - **(0.5p)**\n",
        "    1) Use batch_size=1\n",
        "    2) Use batch_size=1024\n",
        "    \n",
        "* Add *Dropout()* layer just before the SoftMax output layer in you architecture use these two settings and compare the results (hint: take a look at the train and val accuracy) - **(0.5p)**\n",
        "    1) Dropout(0.2)\n",
        "    2) Dropout(0.95)\n",
        "    \n",
        "* Define your own architecture using either one of the showed API and try to beat the basic model - **(1p)**"
      ]
    },
    {
      "cell_type": "code",
      "source": [
        "def test_batch_size(batch_size):\n",
        "  ann_input = keras.layers.Input(shape=(28, 28))\n",
        "  flatten = keras.layers.Flatten()(ann_input)\n",
        "  hidden = keras.layers.Dense(32, activation=tf.nn.relu)(flatten)\n",
        "  ann_output = keras.layers.Dense(10, activation=tf.nn.softmax)(hidden)\n",
        "  \n",
        "  model = keras.Model(ann_input, ann_output)\n",
        "  \n",
        "  model.compile(optimizer='adam',\n",
        "      loss = keras.losses.SparseCategoricalCrossentropy(from_logits=False),\n",
        "      metrics = ['accuracy'],\n",
        "      )\n",
        "\n",
        "  model_checkpoint_callback = tf.keras.callbacks.ModelCheckpoint(\n",
        "      filepath=f'weights.batch_size_{batch_size}.best.hdf5',\n",
        "      save_weights_only=True,\n",
        "      monitor='val_loss',\n",
        "      mode='auto',\n",
        "      save_best_only=True)\n",
        "  \n",
        "  history = model.fit(x_train, y_train, validation_split=0.2, epochs=3, callbacks=[model_checkpoint_callback], batch_size=batch_size)\n",
        "  model.load_weights(f'weights.batch_size_{batch_size}.best.hdf5')\n",
        "  \n",
        "  test_loss, test_acc = model.evaluate(x_test, y_test)\n",
        "  print(f'Test accuracy for batch size {batch_size}: {test_acc}')\n",
        "\n",
        "\n",
        "test_batch_size(1)\n",
        "test_batch_size(1024)"
      ],
      "metadata": {
        "colab": {
          "base_uri": "https://localhost:8080/"
        },
        "id": "Tym8q8XwxBUd",
        "outputId": "e4670e3e-3e7d-4c8a-bd02-218f69beeaf1"
      },
      "execution_count": 60,
      "outputs": [
        {
          "output_type": "stream",
          "name": "stdout",
          "text": [
            "Epoch 1/3\n",
            "48000/48000 [==============================] - 156s 3ms/step - loss: 0.2735 - accuracy: 0.9195 - val_loss: 0.1658 - val_accuracy: 0.9512\n",
            "Epoch 2/3\n",
            "48000/48000 [==============================] - 153s 3ms/step - loss: 0.1633 - accuracy: 0.9533 - val_loss: 0.1808 - val_accuracy: 0.9492\n",
            "Epoch 3/3\n",
            "48000/48000 [==============================] - 151s 3ms/step - loss: 0.1361 - accuracy: 0.9614 - val_loss: 0.1646 - val_accuracy: 0.9567\n",
            "313/313 [==============================] - 1s 3ms/step - loss: 0.1677 - accuracy: 0.9555\n",
            "Test accuracy for batch size 1: 0.9555000066757202\n",
            "Epoch 1/3\n",
            "47/47 [==============================] - 1s 11ms/step - loss: 1.3940 - accuracy: 0.6101 - val_loss: 0.6782 - val_accuracy: 0.8503\n",
            "Epoch 2/3\n",
            "47/47 [==============================] - 0s 6ms/step - loss: 0.5452 - accuracy: 0.8637 - val_loss: 0.4137 - val_accuracy: 0.8931\n",
            "Epoch 3/3\n",
            "47/47 [==============================] - 0s 6ms/step - loss: 0.3989 - accuracy: 0.8942 - val_loss: 0.3448 - val_accuracy: 0.9107\n",
            "313/313 [==============================] - 1s 2ms/step - loss: 0.3479 - accuracy: 0.9079\n",
            "Test accuracy for batch size 1024: 0.9078999757766724\n"
          ]
        }
      ]
    },
    {
      "cell_type": "code",
      "source": [
        "def test_dropout(dropout_prob):\n",
        "  ann_input = keras.layers.Input(shape=(28, 28))\n",
        "  flatten = keras.layers.Flatten()(ann_input)\n",
        "  hidden = keras.layers.Dense(32, activation=tf.nn.relu)(flatten)\n",
        "  dropout = keras.layers.Dropout(0.2)(hidden)\n",
        "  ann_output = keras.layers.Dense(10, activation=tf.nn.softmax)(dropout)\n",
        "  \n",
        "  model = keras.Model(ann_input, ann_output)\n",
        "  \n",
        "  model.compile(optimizer='adam',\n",
        "      loss = keras.losses.SparseCategoricalCrossentropy(from_logits=False),\n",
        "      metrics = ['accuracy'],\n",
        "      )\n",
        "\n",
        "  model_checkpoint_callback = tf.keras.callbacks.ModelCheckpoint(\n",
        "      filepath=f'weights.dropout_{dropout_prob}.best.hdf5',\n",
        "      save_weights_only=True,\n",
        "      monitor='val_loss',\n",
        "      mode='auto',\n",
        "      save_best_only=True)\n",
        "  \n",
        "  history = model.fit(x_train, y_train, validation_split=0.2, epochs=3, callbacks=[model_checkpoint_callback], batch_size=128)\n",
        "  model.load_weights(f'weights.dropout_{dropout_prob}.best.hdf5')\n",
        "  \n",
        "  test_loss, test_acc = model.evaluate(x_test, y_test)\n",
        "  print(f'Test accuracy for dropout {dropout_prob}: {test_acc}')\n",
        "\n",
        "test_dropout(0.2)\n",
        "test_dropout(0.95)"
      ],
      "metadata": {
        "colab": {
          "base_uri": "https://localhost:8080/"
        },
        "id": "p11VvEFkxlDt",
        "outputId": "6c3d6f7f-ac47-4fbe-c4e4-084eafa34025"
      },
      "execution_count": 62,
      "outputs": [
        {
          "output_type": "stream",
          "name": "stdout",
          "text": [
            "Epoch 1/3\n",
            "375/375 [==============================] - 3s 5ms/step - loss: 0.7166 - accuracy: 0.7903 - val_loss: 0.3041 - val_accuracy: 0.9158\n",
            "Epoch 2/3\n",
            "375/375 [==============================] - 2s 4ms/step - loss: 0.3710 - accuracy: 0.8899 - val_loss: 0.2452 - val_accuracy: 0.9301\n",
            "Epoch 3/3\n",
            "375/375 [==============================] - 1s 3ms/step - loss: 0.3165 - accuracy: 0.9065 - val_loss: 0.2158 - val_accuracy: 0.9391\n",
            "313/313 [==============================] - 1s 2ms/step - loss: 0.2175 - accuracy: 0.9372\n",
            "Test accuracy for dropout 0.2: 0.9372000098228455\n",
            "Epoch 1/3\n",
            "375/375 [==============================] - 2s 4ms/step - loss: 0.7007 - accuracy: 0.7930 - val_loss: 0.3071 - val_accuracy: 0.9161\n",
            "Epoch 2/3\n",
            "375/375 [==============================] - 1s 4ms/step - loss: 0.3675 - accuracy: 0.8938 - val_loss: 0.2403 - val_accuracy: 0.9319\n",
            "Epoch 3/3\n",
            "375/375 [==============================] - 1s 4ms/step - loss: 0.3078 - accuracy: 0.9096 - val_loss: 0.2071 - val_accuracy: 0.9410\n",
            "313/313 [==============================] - 1s 3ms/step - loss: 0.2052 - accuracy: 0.9407\n",
            "Test accuracy for dropout 0.95: 0.9406999945640564\n"
          ]
        }
      ]
    },
    {
      "cell_type": "code",
      "source": [
        "in_layer = keras.layers.Input(shape=(28, 28, 1))\n",
        "conv1 = keras.layers.Conv2D(28, (3, 3), activation='relu', input_shape=(28, 28, 1))(in_layer)\n",
        "pool1 = keras.layers.MaxPooling2D((2, 2))(conv1)\n",
        "conv2 = keras.layers.Conv2D(13, (3, 3), activation='relu', input_shape=(13, 13, 1))(pool1)\n",
        "dropout1 = keras.layers.Dropout(0.4)(conv2)\n",
        "flatten = keras.layers.Flatten()(conv2)\n",
        "hidden = keras.layers.Dense(32, activation=tf.nn.relu)(flatten)\n",
        "dropout2 = keras.layers.Dropout(0.4)(hidden)\n",
        "ann_output = keras.layers.Dense(10, activation=tf.nn.softmax)(dropout2)\n",
        "\n",
        "model = keras.Model(in_layer, ann_output)\n",
        "\n",
        "model.compile(optimizer='adam',\n",
        "    loss = keras.losses.SparseCategoricalCrossentropy(from_logits=False),\n",
        "    metrics = ['accuracy'],\n",
        "    )\n",
        "\n",
        "# model.summary()\n",
        "\n",
        "model_checkpoint_callback = tf.keras.callbacks.ModelCheckpoint(\n",
        "    filepath=f'weights.conv.best.hdf5',\n",
        "    save_weights_only=True,\n",
        "    monitor='val_loss',\n",
        "    mode='auto',\n",
        "    save_best_only=True)\n",
        "\n",
        "history = model.fit(x_train, y_train, validation_split=0.2, epochs=3, callbacks=[model_checkpoint_callback], batch_size=128)\n",
        "model.load_weights(f'weights.conv.best.hdf5')\n",
        "\n",
        "test_loss, test_acc = model.evaluate(x_test, y_test)\n",
        "print(f'Test accuracy for CNN: {test_acc}')"
      ],
      "metadata": {
        "colab": {
          "base_uri": "https://localhost:8080/"
        },
        "id": "9opUrQIO3M8U",
        "outputId": "64c63814-9871-4d0c-e163-323400fe67cc"
      },
      "execution_count": 71,
      "outputs": [
        {
          "output_type": "stream",
          "name": "stdout",
          "text": [
            "Epoch 1/3\n",
            "375/375 [==============================] - 4s 7ms/step - loss: 0.6191 - accuracy: 0.8017 - val_loss: 0.1356 - val_accuracy: 0.9637\n",
            "Epoch 2/3\n",
            "375/375 [==============================] - 2s 5ms/step - loss: 0.2409 - accuracy: 0.9248 - val_loss: 0.0839 - val_accuracy: 0.9756\n",
            "Epoch 3/3\n",
            "375/375 [==============================] - 2s 6ms/step - loss: 0.1816 - accuracy: 0.9439 - val_loss: 0.0694 - val_accuracy: 0.9798\n",
            "313/313 [==============================] - 1s 3ms/step - loss: 0.0610 - accuracy: 0.9805\n",
            "Test accuracy for CNN: 0.9804999828338623\n"
          ]
        }
      ]
    },
    {
      "cell_type": "code",
      "source": [],
      "metadata": {
        "id": "BnTwgnNk40vV"
      },
      "execution_count": null,
      "outputs": []
    }
  ],
  "metadata": {
    "accelerator": "GPU",
    "colab": {
      "provenance": []
    },
    "file_extension": ".py",
    "kernelspec": {
      "display_name": "Python 3 (ipykernel)",
      "language": "python",
      "name": "python3"
    },
    "language_info": {
      "codemirror_mode": {
        "name": "ipython",
        "version": 3
      },
      "file_extension": ".py",
      "mimetype": "text/x-python",
      "name": "python",
      "nbconvert_exporter": "python",
      "pygments_lexer": "ipython3",
      "version": "3.10.9"
    },
    "mimetype": "text/x-python",
    "name": "python",
    "npconvert_exporter": "python",
    "pygments_lexer": "ipython3",
    "version": 3
  },
  "nbformat": 4,
  "nbformat_minor": 0
}