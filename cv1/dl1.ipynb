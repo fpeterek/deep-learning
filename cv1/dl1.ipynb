{
  "cells": [
    {
      "cell_type": "markdown",
      "metadata": {
        "id": "8z4lsdTXjdMG"
      },
      "source": [
        "# Deep Learning - Exercise 1\n",
        "This lecture is about basics of the Tensorflow, we will discuss the minimal example on the MNIST dataset.\n",
        "\n",
        "We also investigate a meaning of the validation sets and different complexity of the model. \n",
        "\n",
        "Moreover, we will look on the regulariozation and we will try to find optimal model for the MNIST dataset that is based on fully connected layers."
      ]
    },
    {
      "cell_type": "markdown",
      "metadata": {
        "tags": [],
        "id": "9IuuAA4Vl01j"
      },
      "source": [
        "![meme01](https://github.com/rasvob/VSB-FEI-Deep-Learning-Exercises/blob/main/images/dl_meme_01.jpg?raw=true \"AI Meme\")"
      ]
    },
    {
      "cell_type": "markdown",
      "metadata": {
        "id": "SCXkXCkBjdMH"
      },
      "source": [
        "[Open in Google colab](https://colab.research.google.com/github/rasvob/VSB-FEI-Deep-Learning-Exercises/blob/main/dl_01.ipynb)\n",
        "[Download from Github](https://github.com/rasvob/VSB-FEI-Deep-Learning-Exercises/blob/main/dl_01.ipynb)\n",
        "\n",
        "##### Remember to set **GPU** runtime in Colab!"
      ]
    },
    {
      "cell_type": "markdown",
      "metadata": {
        "id": "vGYmu2RCjdMH"
      },
      "source": [
        "### Import of the TensorFlow\n",
        "The main version of the TensorFlow (TF) is a in the Version package in the field VERSION\n",
        "Since the TensformFlow 2.0 everything was encapsulaed under the KERAS api."
      ]
    },
    {
      "cell_type": "code",
      "execution_count": 1,
      "metadata": {
        "id": "I798rQYbjdMI",
        "tags": [],
        "colab": {
          "base_uri": "https://localhost:8080/",
          "height": 34
        },
        "outputId": "19da02fd-2038-4219-c288-5f888268d27e"
      },
      "outputs": [
        {
          "output_type": "execute_result",
          "data": {
            "text/plain": [
              "'2.11.0'"
            ],
            "application/vnd.google.colaboratory.intrinsic+json": {
              "type": "string"
            }
          },
          "metadata": {},
          "execution_count": 1
        }
      ],
      "source": [
        "import tensorflow as tf\n",
        "import tensorflow.keras as keras\n",
        "import numpy as np\n",
        "import pandas as pd\n",
        "import matplotlib.pyplot as plt\n",
        "from sklearn.tree import DecisionTreeClassifier\n",
        "from sklearn.linear_model import RidgeClassifier\n",
        "from sklearn.metrics import accuracy_score\n",
        "\n",
        "tf.version.VERSION"
      ]
    },
    {
      "cell_type": "markdown",
      "metadata": {
        "id": "LWDIlb9UjdMI"
      },
      "source": [
        "### Import a dataset\n",
        "Datasets are stored in the keras.datasets submodule. Few testing datasets are stored here and installed together with the TF package"
      ]
    },
    {
      "cell_type": "code",
      "execution_count": 2,
      "metadata": {
        "id": "OK0bAkspjdMI",
        "tags": [],
        "colab": {
          "base_uri": "https://localhost:8080/"
        },
        "outputId": "0d154e86-44e5-4e20-97a8-28727bd83d86"
      },
      "outputs": [
        {
          "output_type": "stream",
          "name": "stdout",
          "text": [
            "Downloading data from https://storage.googleapis.com/tensorflow/tf-keras-datasets/mnist.npz\n",
            "11490434/11490434 [==============================] - 0s 0us/step\n",
            "Train data shape:  (60000, 28, 28)\n",
            "Test data shape:   (10000, 28, 28)\n"
          ]
        }
      ],
      "source": [
        "# mnist is the basic dataset with handwritten digits\n",
        "mnist = tf.keras.datasets.mnist\n",
        "\n",
        "# data from any dataset are loaded using the load_Data function\n",
        "(x_train, y_train), (x_test, y_test) = mnist.load_data()\n",
        "\n",
        "# the data are in the form of 28x28 pixes with values 0-255.\n",
        "print('Train data shape: ', x_train.shape)\n",
        "print('Test data shape:  ', x_test.shape)"
      ]
    },
    {
      "cell_type": "markdown",
      "metadata": {
        "id": "7jRqCq9jklBE"
      },
      "source": [
        "The dataset consists of 60,000 training images and 10,000 testing images. All of the are 28x28 pixels. "
      ]
    },
    {
      "cell_type": "markdown",
      "metadata": {
        "id": "ACxVYmJGjdMI"
      },
      "source": [
        "### Lets look on the data how do they look like.\n",
        "Look closely on the value scale - it os from 0 to 255 as usual in grayscale  images."
      ]
    },
    {
      "cell_type": "markdown",
      "metadata": {
        "id": "0xYJvCAol01r"
      },
      "source": [
        "### We can see that the numbers are already centered - you won't see this feature in the real world images often 🙂\n",
        "Some of the images are quite easy to classify but on the other hand there is a lot of noise in the data as well.\n",
        "\n",
        "Take a look at these two examples below? The 1st one is clear, but the 2nd one is 1 or 7?"
      ]
    },
    {
      "cell_type": "code",
      "execution_count": 3,
      "metadata": {
        "id": "OZaKJJf3jdMJ",
        "tags": [],
        "colab": {
          "base_uri": "https://localhost:8080/",
          "height": 265
        },
        "outputId": "8eb3f145-00fe-4a5c-9521-8a7730f011b6"
      },
      "outputs": [
        {
          "output_type": "display_data",
          "data": {
            "text/plain": [
              "<Figure size 432x288 with 2 Axes>"
            ],
            "image/png": "[encoded data removed]"
          },
          "metadata": {
            "needs_background": "light"
          }
        }
      ],
      "source": [
        "plt.figure()\n",
        "plt.imshow(x_train[12])\n",
        "plt.colorbar()\n",
        "plt.grid(False)\n",
        "plt.show()"
      ]
    },
    {
      "cell_type": "code",
      "execution_count": 4,
      "metadata": {
        "tags": [],
        "colab": {
          "base_uri": "https://localhost:8080/",
          "height": 265
        },
        "id": "5JNeqDxsl01t",
        "outputId": "b5752e9f-209c-4d51-87a3-6dc0296f3dca"
      },
      "outputs": [
        {
          "output_type": "display_data",
          "data": {
            "text/plain": [
              "<Figure size 432x288 with 2 Axes>"
            ],
            "image/png": "[encoded data removed]"
          },
          "metadata": {
            "needs_background": "light"
          }
        }
      ],
      "source": [
        "plt.figure()\n",
        "plt.imshow(x_train[42])\n",
        "plt.colorbar()\n",
        "plt.grid(False)\n",
        "plt.show()"
      ]
    },
    {
      "cell_type": "markdown",
      "metadata": {
        "id": "7Z_rfPvrjdMJ"
      },
      "source": [
        "### The conversion into range 0-1 is done by the division\n",
        "* Lets normalize the values into the range \\(0,1\\) by dividing it 255.\n",
        "\n",
        "* Why is this step helpful? (Hint: input magnitude and weights)"
      ]
    },
    {
      "cell_type": "code",
      "execution_count": 5,
      "metadata": {
        "id": "hCNrX5rqjdMJ",
        "tags": []
      },
      "outputs": [],
      "source": [
        "# The conversion into range 0-1 is done by the division\n",
        "x_train, x_test = x_train / 255.0, x_test / 255.0"
      ]
    },
    {
      "cell_type": "markdown",
      "metadata": {
        "id": "tyhe6lUKjdMJ"
      },
      "source": [
        "### Make better visualization of the data to better understand how complex they are\n",
        "* You can see that \"noisy\" digit and different handwriting style is really no exception"
      ]
    },
    {
      "cell_type": "code",
      "execution_count": 6,
      "metadata": {
        "id": "dIf8LNL7jdMJ",
        "tags": [],
        "colab": {
          "base_uri": "https://localhost:8080/",
          "height": 592
        },
        "outputId": "c2e21d03-1850-4667-f320-c5f1cc49529c"
      },
      "outputs": [
        {
          "output_type": "display_data",
          "data": {
            "text/plain": [
              "<Figure size 720x720 with 25 Axes>"
            ],
            "image/png": "[encoded data removed]"
          },
          "metadata": {}
        }
      ],
      "source": [
        "class_names = [str(x) for x in range(10)]\n",
        "\n",
        "plt.figure(figsize=(10,10))\n",
        "for i in range(25):\n",
        "    plt.subplot(5,5,i+1)\n",
        "    plt.xticks([])\n",
        "    plt.yticks([])\n",
        "    plt.grid(False)\n",
        "    plt.imshow(x_train[i], cmap=plt.cm.binary)\n",
        "    plt.xlabel(class_names[y_train[i]])\n",
        "plt.show()"
      ]
    },
    {
      "cell_type": "markdown",
      "metadata": {
        "id": "fjRIH5mvl01w"
      },
      "source": [
        "## Before we dive in the deep learning territory, let's try to create some baseline model using a machine learning model so we can compare the approaches\n",
        "* Are ML models capable of processing image data?\n",
        "* How to deal with a matrix input?"
      ]
    },
    {
      "cell_type": "code",
      "execution_count": 7,
      "metadata": {
        "tags": [],
        "colab": {
          "base_uri": "https://localhost:8080/",
          "height": 75
        },
        "id": "k24ymhpgl01x",
        "outputId": "ff01f875-5164-49d8-85c3-a935ac284743"
      },
      "outputs": [
        {
          "output_type": "execute_result",
          "data": {
            "text/plain": [
              "DecisionTreeClassifier()"
            ],
            "text/html": [
              "<style>#sk-container-id-1 {color: black;background-color: white;}#sk-container-id-1 pre{padding: 0;}#sk-container-id-1 div.sk-toggleable {background-color: white;}#sk-container-id-1 label.sk-toggleable__label {cursor: pointer;display: block;width: 100%;margin-bottom: 0;padding: 0.3em;box-sizing: border-box;text-align: center;}#sk-container-id-1 label.sk-toggleable__label-arrow:before {content: \"▸\";float: left;margin-right: 0.25em;color: #696969;}#sk-container-id-1 label.sk-toggleable__label-arrow:hover:before {color: black;}#sk-container-id-1 div.sk-estimator:hover label.sk-toggleable__label-arrow:before {color: black;}#sk-container-id-1 div.sk-toggleable__content {max-height: 0;max-width: 0;overflow: hidden;text-align: left;background-color: #f0f8ff;}#sk-container-id-1 div.sk-toggleable__content pre {margin: 0.2em;color: black;border-radius: 0.25em;background-color: #f0f8ff;}#sk-container-id-1 input.sk-toggleable__control:checked~div.sk-toggleable__content {max-height: 200px;max-width: 100%;overflow: auto;}#sk-container-id-1 input.sk-toggleable__control:checked~label.sk-toggleable__label-arrow:before {content: \"▾\";}#sk-container-id-1 div.sk-estimator input.sk-toggleable__control:checked~label.sk-toggleable__label {background-color: #d4ebff;}#sk-container-id-1 div.sk-label input.sk-toggleable__control:checked~label.sk-toggleable__label {background-color: #d4ebff;}#sk-container-id-1 input.sk-hidden--visually {border: 0;clip: rect(1px 1px 1px 1px);clip: rect(1px, 1px, 1px, 1px);height: 1px;margin: -1px;overflow: hidden;padding: 0;position: absolute;width: 1px;}#sk-container-id-1 div.sk-estimator {font-family: monospace;background-color: #f0f8ff;border: 1px dotted black;border-radius: 0.25em;box-sizing: border-box;margin-bottom: 0.5em;}#sk-container-id-1 div.sk-estimator:hover {background-color: #d4ebff;}#sk-container-id-1 div.sk-parallel-item::after {content: \"\";width: 100%;border-bottom: 1px solid gray;flex-grow: 1;}#sk-container-id-1 div.sk-label:hover label.sk-toggleable__label {background-color: #d4ebff;}#sk-container-id-1 div.sk-serial::before {content: \"\";position: absolute;border-left: 1px solid gray;box-sizing: border-box;top: 0;bottom: 0;left: 50%;z-index: 0;}#sk-container-id-1 div.sk-serial {display: flex;flex-direction: column;align-items: center;background-color: white;padding-right: 0.2em;padding-left: 0.2em;position: relative;}#sk-container-id-1 div.sk-item {position: relative;z-index: 1;}#sk-container-id-1 div.sk-parallel {display: flex;align-items: stretch;justify-content: center;background-color: white;position: relative;}#sk-container-id-1 div.sk-item::before, #sk-container-id-1 div.sk-parallel-item::before {content: \"\";position: absolute;border-left: 1px solid gray;box-sizing: border-box;top: 0;bottom: 0;left: 50%;z-index: -1;}#sk-container-id-1 div.sk-parallel-item {display: flex;flex-direction: column;z-index: 1;position: relative;background-color: white;}#sk-container-id-1 div.sk-parallel-item:first-child::after {align-self: flex-end;width: 50%;}#sk-container-id-1 div.sk-parallel-item:last-child::after {align-self: flex-start;width: 50%;}#sk-container-id-1 div.sk-parallel-item:only-child::after {width: 0;}#sk-container-id-1 div.sk-dashed-wrapped {border: 1px dashed gray;margin: 0 0.4em 0.5em 0.4em;box-sizing: border-box;padding-bottom: 0.4em;background-color: white;}#sk-container-id-1 div.sk-label label {font-family: monospace;font-weight: bold;display: inline-block;line-height: 1.2em;}#sk-container-id-1 div.sk-label-container {text-align: center;}#sk-container-id-1 div.sk-container {/* jupyter's `normalize.less` sets `[hidden] { display: none; }` but bootstrap.min.css set `[hidden] { display: none !important; }` so we also need the `!important` here to be able to override the default hidden behavior on the sphinx rendered scikit-learn.org. See: https://github.com/scikit-learn/scikit-learn/issues/21755 */display: inline-block !important;position: relative;}#sk-container-id-1 div.sk-text-repr-fallback {display: none;}</style><div id=\"sk-container-id-1\" class=\"sk-top-container\"><div class=\"sk-text-repr-fallback\"><pre>DecisionTreeClassifier()</pre><b>In a Jupyter environment, please rerun this cell to show the HTML representation or trust the notebook. <br />On GitHub, the HTML representation is unable to render, please try loading this page with nbviewer.org.</b></div><div class=\"sk-container\" hidden><div class=\"sk-item\"><div class=\"sk-estimator sk-toggleable\"><input class=\"sk-toggleable__control sk-hidden--visually\" id=\"sk-estimator-id-1\" type=\"checkbox\" checked><label for=\"sk-estimator-id-1\" class=\"sk-toggleable__label sk-toggleable__label-arrow\">DecisionTreeClassifier</label><div class=\"sk-toggleable__content\"><pre>DecisionTreeClassifier()</pre></div></div></div></div></div>"
            ]
          },
          "metadata": {},
          "execution_count": 7
        }
      ],
      "source": [
        "alg = DecisionTreeClassifier()\n",
        "alg.fit(x_train.reshape(-1, 28*28), y_train)"
      ]
    },
    {
      "cell_type": "code",
      "execution_count": 8,
      "metadata": {
        "tags": [],
        "id": "PlqYbq4ol01x"
      },
      "outputs": [],
      "source": [
        "y_pred = alg.predict(x_test.reshape(-1, 28*28))"
      ]
    },
    {
      "cell_type": "code",
      "execution_count": 9,
      "metadata": {
        "tags": [],
        "colab": {
          "base_uri": "https://localhost:8080/"
        },
        "id": "rg-Ouz-Kl01y",
        "outputId": "8912bad6-5e0e-4437-dc27-d2dfe1b09721"
      },
      "outputs": [
        {
          "output_type": "execute_result",
          "data": {
            "text/plain": [
              "array([7, 2, 1, ..., 4, 5, 6], dtype=uint8)"
            ]
          },
          "metadata": {},
          "execution_count": 9
        }
      ],
      "source": [
        "y_pred"
      ]
    },
    {
      "cell_type": "code",
      "execution_count": 10,
      "metadata": {
        "tags": [],
        "colab": {
          "base_uri": "https://localhost:8080/"
        },
        "id": "35Xp_Ks0l01y",
        "outputId": "05d84dce-6448-4280-a477-c07c1ff701a2"
      },
      "outputs": [
        {
          "output_type": "execute_result",
          "data": {
            "text/plain": [
              "0.8758"
            ]
          },
          "metadata": {},
          "execution_count": 10
        }
      ],
      "source": [
        "accuracy_score(y_true=y_test, y_pred=y_pred)"
      ]
    },
    {
      "cell_type": "markdown",
      "metadata": {
        "id": "IcytaJeNl01z"
      },
      "source": [
        "### We can see that we were able to create a classifier very easily.\n",
        "* However it is no secret, that DL models accuracy on MNIST can be >= 98% even with simple architecture\n",
        "* Given the fact, our result is not very impresive 🙂"
      ]
    },
    {
      "cell_type": "markdown",
      "metadata": {
        "id": "H3uY8cfbjdMJ"
      },
      "source": [
        "## Basic model - a NN with very simple hierarchy\n",
        "* Model is created using layers, many layers exists in the [layer submodule](https://www.tensorflow.org/api_docs/python/tf/keras/layers)\n",
        "* Each layer uses a activation functions collected in the [module nn](https://www.tensorflow.org/api_docs/python/tf/nn)\n",
        " \n",
        "#### There are 2 ways of using the Keras API, Sequential and Functional, we will start with the sequential one\n",
        "\n",
        "* Why do we use activation functions?\n",
        "* How is ANN different from lin. regression?\n",
        "\n",
        "## Let's design our first ANN\n",
        "* Can you draw such network on a table?"
      ]
    },
    {
      "cell_type": "code",
      "execution_count": 11,
      "metadata": {
        "id": "4FRfWkocjdMK",
        "tags": [],
        "colab": {
          "base_uri": "https://localhost:8080/"
        },
        "outputId": "56f1b1d8-20c8-4e08-d4c0-d4e9f56ec16f"
      },
      "outputs": [
        {
          "output_type": "stream",
          "name": "stdout",
          "text": [
            "Model: \"sequential\"\n",
            "_________________________________________________________________\n",
            " Layer (type)                Output Shape              Param #   \n",
            "=================================================================\n",
            " flatten (Flatten)           (None, 784)               0         \n",
            "                                                                 \n",
            " dense (Dense)               (None, 32)                25120     \n",
            "                                                                 \n",
            " dense_1 (Dense)             (None, 10)                330       \n",
            "                                                                 \n",
            "=================================================================\n",
            "Total params: 25,450\n",
            "Trainable params: 25,450\n",
            "Non-trainable params: 0\n",
            "_________________________________________________________________\n"
          ]
        }
      ],
      "source": [
        "model = keras.Sequential([\n",
        "    keras.layers.Flatten(input_shape=(28, 28)),# Flatten module flatten the multidimension input into single vector 28x28 = 784 float numbers\n",
        "    keras.layers.Dense(32, activation=tf.nn.relu), # standard dense-fully connected layer with the rectified lineaar function as an activation\n",
        "    keras.layers.Dense(10, activation=tf.nn.softmax), # another fully-connected layer with softmax activation function\n",
        "])\n",
        "\n",
        "model.summary() # prints the summary of the model"
      ]
    },
    {
      "cell_type": "markdown",
      "metadata": {
        "id": "G-40PLkLl011"
      },
      "source": [
        "### What is the meaning of the *Total params* number?"
      ]
    },
    {
      "cell_type": "markdown",
      "metadata": {
        "id": "XxkeKMLdjdMK"
      },
      "source": [
        "### Compilation of the model\n",
        "Each model need to be compiled to be able to fit to the data and predict the labels\n",
        "\n",
        "#### Optimizers\n",
        "\n",
        "* There are many optimizers available, you can experiment with different algorithms, most of them are based on gradient descent algorithm\n",
        "* And of course gradient descent is not a limit, gradient-free methods are available as well, e.g. [Nevergrad library by META](https://github.com/facebookresearch/nevergrad)\n",
        "\n",
        "**Selected optimizers:**\n",
        "* Gradient descent\n",
        "   * Works for the whole dataset and it is not suitable for large data\n",
        "* Stochastic Gradiend Descent (SGD)\n",
        "   * Approximate the real gradiend from selested subset of data (Stochasticity)\n",
        "* Root Mean Square Propagation (RMSPRop)\n",
        "   * Adapts the learnign rate with the running average of the recent gradients.\n",
        "* Adamptive Moment Estimation (ADAM)\n",
        "   * Averages gradients and secodn moment of the gradient and adapts the learning rate.\n",
        "\n",
        "#### Loss functions\n",
        "**Training of the ANN is about weights optimization. We need to some formula that says us if the optimization process is making the ANN better or not.**\n",
        "\n",
        "**The choice of a loss function depends on tha task and network architecture. Below are the most common loss functions mentioned.**\n",
        "\n",
        "* Mean Squared Error\n",
        "   * a classical measure to be used in regression\n",
        "   * a logarithmic version exists\n",
        "* Mean Absolute Error (MAE)\n",
        "   * take an absolute values instead of their squared version\n",
        "* Binary classification Loss\n",
        "   * a loss for binary problems only\n",
        "   * predicts the probability of the class 1\n",
        "* Binary Cross-Entropy\n",
        "   * predict the class from the set {0,1}\n",
        "   * requires a sigmoind activation function\n",
        "* Categorical Cross-Entropy\n",
        "   * default for mutli-class classification problems\n",
        "   * requires the softmax function on output layer to compute probability of each layer\n",
        "   * train labels have to be one-hot-encoded\n",
        "* Sparse Categorical Cross-Entropy\n",
        "   * the same as above but the tran lables are just labels not encoded.\n",
        "\n",
        "#### Metrics\n",
        "**Used metrics for the model prediction accuracy evaluation are the same as in the ML area, i.e. accuracy, f1-score, recall, etc. The choice depends on the task and the labels distribution.**\n",
        "\n",
        "### Do you remember in which cases is the *accuracy* metric not a best choice? Which metrics are more suitable for these cases?\n",
        "\n",
        "* Regression metrics\n",
        "   * Mean Squared Error (MSE)\n",
        "   * Mean Absolute Error (MAE)\n",
        "   * Mean Absolute Percentage Error (MAPE)\n",
        "* Classification metrics\n",
        "   * Binary Accuracy\n",
        "   * Categorical Accuracy\n",
        "   * Sparse Categorical Accuracy\n",
        "   * Top k Categorical Accuracy\n",
        "   * Sparse Top k Categorical Accuracy\n",
        "   * Accuracy - a general version that is modified based on the data analyzed autmatically"
      ]
    },
    {
      "cell_type": "markdown",
      "metadata": {
        "id": "XzKasrbgl012"
      },
      "source": [
        "## We can compile the model now, we will use the accuracy metric\n",
        "* Why do we use SparseCategoricalCrossentropy? What is from_logits parameter?\n",
        "\n",
        "* SparseCategoricalCrossentropy = We expect labels to be provided as integers.\n",
        "\n",
        "The output of the Dense layer will either return:\n",
        "* probabilities: The output is passed through a SoftMax function which normalizes the output into a set of probabilities over n, that all add up to 1.\n",
        "* logits: n activations.\n",
        "\n",
        "Your loss function has to be informed as to whether it should expect a normalized distribution (output passed through a SoftMax function) or logits. \n",
        "If your output layer has a 'softmax' activation, from_logits should be False. If your output layer doesn't have a 'softmax' activation, from_logits should be True."
      ]
    },
    {
      "cell_type": "code",
      "execution_count": 12,
      "metadata": {
        "id": "1rh03ZvLjdMK",
        "tags": []
      },
      "outputs": [],
      "source": [
        "model.compile(optimizer='adam',\n",
        "    loss = keras.losses.SparseCategoricalCrossentropy(from_logits=False),\n",
        "    metrics = ['accuracy'],\n",
        "    )"
      ]
    },
    {
      "cell_type": "markdown",
      "metadata": {
        "id": "lA09suMrjdMK"
      },
      "source": [
        "### Model visualization\n",
        "Model then compiles and it is ready for fitting to the data. \n",
        "\n",
        "The model may be printed into image like the following image of our model:\n",
        "\n",
        "<!-- ![model](https://github.com/jplatos/2019-2020-DA4/raw/master/images/da4_01_base.png \"Base model of the neural network\") -->"
      ]
    },
    {
      "cell_type": "code",
      "execution_count": 13,
      "metadata": {
        "id": "RAKg-e-OjdML",
        "tags": [],
        "colab": {
          "base_uri": "https://localhost:8080/",
          "height": 422
        },
        "outputId": "3f03dbec-3789-461a-c497-9316af9a0a40"
      },
      "outputs": [
        {
          "output_type": "execute_result",
          "data": {
            "image/png": "[encoded data removed]",
            "text/plain": [
              "<IPython.core.display.Image object>"
            ]
          },
          "metadata": {},
          "execution_count": 13
        }
      ],
      "source": [
        "keras.utils.plot_model(model, show_shapes=True)"
      ]
    },
    {
      "cell_type": "markdown",
      "metadata": {
        "id": "An4hyfD7jdML"
      },
      "source": [
        "# Now we can fit the model to the input data\n",
        "* The *fit()* method fit the model to the data, the parameters are *data* and *labels* from the train set and number of *epoch* to be trained.\n",
        "* The *validation_split* parameter is also very common. What does the parameter do?\n",
        "    * What is the validation set? How is it different from the test set?\n",
        "\n",
        "## FAQ section 🙂\n",
        "* How does the ANN training procedure look like?\n",
        "* What is the *epoch*?\n",
        "* What is the *batch*?\n",
        "* Why do we use batches? \n",
        "    * Is possible to have batch of size *len(data)* or os size *1*? \n",
        "    * What are caveates of these cases?\n",
        "\n",
        "\n"
      ]
    },
    {
      "cell_type": "markdown",
      "metadata": {
        "id": "2lh1AHY4l013"
      },
      "source": [
        "# Define the callbacks\n",
        "* Always use ModelCheckpoint callback so you overcome the possible overfitting in the last few epochs!\n",
        "### The .fit() API is pretty powerful\n",
        "- It is common to use some sort of a callback, we will use ModelCheckpoint callback which saves the best weights configuration obtained during training so the overfitting at the final phase of training will be suppressed\n",
        "\n",
        "- **The best weights are determined using the validation loss value**"
      ]
    },
    {
      "cell_type": "code",
      "execution_count": 14,
      "metadata": {
        "id": "NUzeNn2JjdML",
        "tags": []
      },
      "outputs": [],
      "source": [
        "model_checkpoint_callback = tf.keras.callbacks.ModelCheckpoint(\n",
        "    filepath='weights.best.hdf5',\n",
        "    save_weights_only=True,\n",
        "    monitor='val_loss',\n",
        "    mode='auto',\n",
        "    save_best_only=True)"
      ]
    },
    {
      "cell_type": "markdown",
      "metadata": {
        "id": "3L2Q6kqNl014"
      },
      "source": [
        "# Fit the model"
      ]
    },
    {
      "cell_type": "code",
      "execution_count": 15,
      "metadata": {
        "id": "ixodDENSjdML",
        "tags": [],
        "colab": {
          "base_uri": "https://localhost:8080/"
        },
        "outputId": "82c3f972-c558-48eb-d3ff-61ca07c3ff93"
      },
      "outputs": [
        {
          "output_type": "stream",
          "name": "stdout",
          "text": [
            "Epoch 1/3\n",
            "375/375 [==============================] - 8s 5ms/step - loss: 0.5535 - accuracy: 0.8481 - val_loss: 0.2738 - val_accuracy: 0.9235\n",
            "Epoch 2/3\n",
            "375/375 [==============================] - 1s 3ms/step - loss: 0.2587 - accuracy: 0.9268 - val_loss: 0.2224 - val_accuracy: 0.9385\n",
            "Epoch 3/3\n",
            "375/375 [==============================] - 1s 3ms/step - loss: 0.2143 - accuracy: 0.9390 - val_loss: 0.1973 - val_accuracy: 0.9441\n"
          ]
        }
      ],
      "source": [
        "history = model.fit(x_train, y_train, validation_split=0.2, epochs=3, callbacks=[model_checkpoint_callback], batch_size=128)"
      ]
    },
    {
      "cell_type": "markdown",
      "metadata": {
        "tags": [],
        "id": "4-HFL6hGl015"
      },
      "source": [
        "# Let's take a look at the accuracy and loss function values for both - the train and validation set\n",
        "* What can you see in the plot?\n",
        "* Is OK that loss is getting lower and accuracy higher?\n",
        "    * Can the loss function value go higher? \n",
        "* What if the training set loss is getting lower, but validation set loss higher? \n",
        "    * How do we call this situation?"
      ]
    },
    {
      "cell_type": "code",
      "execution_count": 16,
      "metadata": {
        "id": "Wj3duiFljdML",
        "tags": [],
        "colab": {
          "base_uri": "https://localhost:8080/",
          "height": 297
        },
        "outputId": "d31ce00f-bbf8-43af-fbdc-fbbd7faa9bb6"
      },
      "outputs": [
        {
          "output_type": "display_data",
          "data": {
            "text/plain": [
              "<Figure size 432x288 with 1 Axes>"
            ],
            "image/png": "[encoded data removed]"
          },
          "metadata": {
            "needs_background": "light"
          }
        }
      ],
      "source": [
        "plt.figure()\n",
        "for key in history.history.keys():\n",
        "    plt.plot(history.epoch, history.history[key], label=key)\n",
        "plt.legend()\n",
        "plt.tight_layout()"
      ]
    },
    {
      "cell_type": "markdown",
      "metadata": {
        "id": "HZ7GIE6zl016"
      },
      "source": [
        "# Beware that ANN are prone to overfitting!\n",
        "\n",
        "### How does overfit look like?\n",
        "* Y axis = Accuracy\n",
        "* X axis = Epoch\n",
        "![overfit](https://github.com/rasvob/VSB-FEI-Deep-Learning-Exercises/blob/main/images/overfit_acc.png?raw=true \"Overfit\")"
      ]
    },
    {
      "cell_type": "markdown",
      "metadata": {
        "id": "remow-Stl016"
      },
      "source": [
        "# How can we solve the overfitting issue?\n",
        "\n",
        "### 1 - Use simpler model\n",
        "* The model often overfit because there is a lot of parameters for the amount of input data\n",
        "\n",
        "### 2 - Use Dropout layer\n",
        "- Node sampling instead of edge sampling \n",
        "- If a node is dropped, then all incoming and outgoing connections from that node need to be dropped as well\n",
        "- We sample sub-networks from the original one - basically ensemble of networks\n",
        "- There won't be some \"alpha\" node in the individual layer with huge weight coefficient\n",
        "    - Responsibility for prediction will be shared among multiple nodes\n",
        "\n",
        "![dropout](https://github.com/rasvob/2020-21-ARD/raw/master/images/dropout.jpeg \"Dropout\")\n",
        "\n",
        "## Keras API\n",
        "- keras.layers.Dropout(0.5)\n",
        "- Take a look [here](https://www.tensorflow.org/api_docs/python/tf/keras/layers/Dropout)"
      ]
    },
    {
      "cell_type": "markdown",
      "metadata": {
        "id": "O3hqCxJ8jdML"
      },
      "source": [
        "## Beware that the best weights needs to be loaded after the training is finished!\n",
        "* **Otherwise you use the weights from the last epoch!**"
      ]
    },
    {
      "cell_type": "code",
      "execution_count": 17,
      "metadata": {
        "id": "rkuf66s5jdML",
        "tags": []
      },
      "outputs": [],
      "source": [
        "model.load_weights(\"weights.best.hdf5\")"
      ]
    },
    {
      "cell_type": "markdown",
      "metadata": {
        "id": "_M1GVLjQl017"
      },
      "source": [
        "## Now we can use *evaluate()* function for obtaining the accuracy using the test set"
      ]
    },
    {
      "cell_type": "markdown",
      "metadata": {
        "tags": [],
        "id": "kLgE1Qd_l017"
      },
      "source": [
        "![meme02](https://github.com/rasvob/VSB-FEI-Deep-Learning-Exercises/blob/main/images/dl_meme_02.jpg?raw=true \"AI Meme 02\")"
      ]
    },
    {
      "cell_type": "code",
      "execution_count": 18,
      "metadata": {
        "id": "x0QAkwi7jdMM",
        "tags": [],
        "colab": {
          "base_uri": "https://localhost:8080/"
        },
        "outputId": "1b679315-a29b-4c4d-c8ff-0f2c571b457b"
      },
      "outputs": [
        {
          "output_type": "stream",
          "name": "stdout",
          "text": [
            "313/313 [==============================] - 1s 3ms/step - loss: 0.1961 - accuracy: 0.9430\n",
            "Test accuracy:  0.9430000185966492\n"
          ]
        }
      ],
      "source": [
        "test_loss, test_acc = model.evaluate(x_test, y_test)\n",
        "print('Test accuracy: ', test_acc)"
      ]
    },
    {
      "cell_type": "markdown",
      "metadata": {
        "id": "MTjloxgRl017"
      },
      "source": [
        "# Can we obtain the labels and use it for our own evaluation without Keras? Sure!"
      ]
    },
    {
      "cell_type": "markdown",
      "metadata": {
        "id": "5h3XFYtRl017"
      },
      "source": [
        "## We will obtain the raw softmax outputs\n",
        "* What is the range of the vector values?\n",
        "* Do they sum-up to some number?"
      ]
    },
    {
      "cell_type": "code",
      "execution_count": 19,
      "metadata": {
        "tags": [],
        "colab": {
          "base_uri": "https://localhost:8080/"
        },
        "id": "0-YkaPwvl017",
        "outputId": "d24e64a3-7e1f-496a-9a94-9cf9ffd88f8a"
      },
      "outputs": [
        {
          "output_type": "stream",
          "name": "stdout",
          "text": [
            "313/313 [==============================] - 1s 2ms/step\n"
          ]
        }
      ],
      "source": [
        "y_pred_proba = model.predict(x_test)"
      ]
    },
    {
      "cell_type": "code",
      "execution_count": 20,
      "metadata": {
        "tags": [],
        "colab": {
          "base_uri": "https://localhost:8080/"
        },
        "id": "inf8l72Kl018",
        "outputId": "86d28dac-f9ca-498a-ac7b-5ec963759e1f"
      },
      "outputs": [
        {
          "output_type": "execute_result",
          "data": {
            "text/plain": [
              "array([1.5134590e-05, 1.8291857e-07, 1.8425664e-04, 1.0085898e-02,\n",
              "       2.3303141e-07, 1.4441583e-05, 7.4161932e-08, 9.8902124e-01,\n",
              "       5.2998446e-05, 6.2553561e-04], dtype=float32)"
            ]
          },
          "metadata": {},
          "execution_count": 20
        }
      ],
      "source": [
        "y_pred_proba[0]"
      ]
    },
    {
      "cell_type": "code",
      "execution_count": 21,
      "metadata": {
        "tags": [],
        "colab": {
          "base_uri": "https://localhost:8080/"
        },
        "id": "t21lYnZ0l018",
        "outputId": "bda288f9-2df1-428d-8ed0-52601ec26530"
      },
      "outputs": [
        {
          "output_type": "execute_result",
          "data": {
            "text/plain": [
              "1.0"
            ]
          },
          "metadata": {},
          "execution_count": 21
        }
      ],
      "source": [
        "np.sum(y_pred_proba[0])"
      ]
    },
    {
      "cell_type": "markdown",
      "metadata": {
        "id": "U19Ym47Ql019"
      },
      "source": [
        "## Now we can extract the index of the highest probability and get the labels"
      ]
    },
    {
      "cell_type": "code",
      "execution_count": 22,
      "metadata": {
        "tags": [],
        "id": "cxtQA6nwl019"
      },
      "outputs": [],
      "source": [
        "y_pred = np.argmax(y_pred_proba, axis=1)"
      ]
    },
    {
      "cell_type": "code",
      "execution_count": 23,
      "metadata": {
        "tags": [],
        "colab": {
          "base_uri": "https://localhost:8080/"
        },
        "id": "X_0zjcFMl019",
        "outputId": "66ed64bd-cdff-4da0-94ef-b9f832fc34dd"
      },
      "outputs": [
        {
          "output_type": "execute_result",
          "data": {
            "text/plain": [
              "array([7, 2, 1, ..., 4, 5, 6])"
            ]
          },
          "metadata": {},
          "execution_count": 23
        }
      ],
      "source": [
        "y_pred"
      ]
    },
    {
      "cell_type": "markdown",
      "metadata": {
        "tags": [],
        "id": "OcEgoKGPl01-"
      },
      "source": [
        "# Is the model any better than the ML baseline?"
      ]
    },
    {
      "cell_type": "code",
      "execution_count": 24,
      "metadata": {
        "tags": [],
        "colab": {
          "base_uri": "https://localhost:8080/"
        },
        "id": "BWtxaORFl01-",
        "outputId": "df9e9340-45e9-4d94-d9db-b51d4ed66f94"
      },
      "outputs": [
        {
          "output_type": "execute_result",
          "data": {
            "text/plain": [
              "0.943"
            ]
          },
          "metadata": {},
          "execution_count": 24
        }
      ],
      "source": [
        "accuracy_score(y_true=y_test, y_pred=y_pred)"
      ]
    },
    {
      "cell_type": "markdown",
      "metadata": {
        "id": "0ta55NPzl01-"
      },
      "source": [
        "# We can now re-build the same network using a Functional API\n",
        "* You can use any API that you like however I recomment the **Functional** one as it is more versatile, e.g. building ANN architecture with skip-connect synaptic links"
      ]
    },
    {
      "cell_type": "code",
      "execution_count": 25,
      "metadata": {
        "tags": [],
        "colab": {
          "base_uri": "https://localhost:8080/"
        },
        "id": "wFxYTroll01_",
        "outputId": "ab70596c-1a61-4f8b-fb4c-2c907df9e20a"
      },
      "outputs": [
        {
          "output_type": "stream",
          "name": "stdout",
          "text": [
            "Model: \"model\"\n",
            "_________________________________________________________________\n",
            " Layer (type)                Output Shape              Param #   \n",
            "=================================================================\n",
            " input_1 (InputLayer)        [(None, 28, 28)]          0         \n",
            "                                                                 \n",
            " flatten_1 (Flatten)         (None, 784)               0         \n",
            "                                                                 \n",
            " dense_2 (Dense)             (None, 32)                25120     \n",
            "                                                                 \n",
            " dense_3 (Dense)             (None, 10)                330       \n",
            "                                                                 \n",
            "=================================================================\n",
            "Total params: 25,450\n",
            "Trainable params: 25,450\n",
            "Non-trainable params: 0\n",
            "_________________________________________________________________\n"
          ]
        }
      ],
      "source": [
        "ann_input = keras.layers.Input(shape=(28, 28))\n",
        "flatten = keras.layers.Flatten()(ann_input)\n",
        "hidden = keras.layers.Dense(32, activation=tf.nn.relu)(flatten)\n",
        "ann_output = keras.layers.Dense(10, activation=tf.nn.softmax)(hidden)\n",
        "\n",
        "model = keras.Model(ann_input, ann_output)\n",
        "\n",
        "model.compile(optimizer='adam',\n",
        "    loss = keras.losses.SparseCategoricalCrossentropy(from_logits=False),\n",
        "    metrics = ['accuracy'],\n",
        "    )\n",
        "\n",
        "model.summary()"
      ]
    },
    {
      "cell_type": "markdown",
      "metadata": {
        "id": "WndrtVZxl01_"
      },
      "source": [
        "## The rest is the same"
      ]
    },
    {
      "cell_type": "code",
      "execution_count": 26,
      "metadata": {
        "tags": [],
        "colab": {
          "base_uri": "https://localhost:8080/"
        },
        "id": "qhLaylNml01_",
        "outputId": "c5822998-a534-4986-b885-67541cd5816a"
      },
      "outputs": [
        {
          "output_type": "stream",
          "name": "stdout",
          "text": [
            "Epoch 1/3\n",
            "375/375 [==============================] - 2s 4ms/step - loss: 0.5603 - accuracy: 0.8495 - val_loss: 0.2899 - val_accuracy: 0.9178\n",
            "Epoch 2/3\n",
            "375/375 [==============================] - 1s 3ms/step - loss: 0.2757 - accuracy: 0.9218 - val_loss: 0.2374 - val_accuracy: 0.9336\n",
            "Epoch 3/3\n",
            "375/375 [==============================] - 1s 3ms/step - loss: 0.2318 - accuracy: 0.9343 - val_loss: 0.2150 - val_accuracy: 0.9406\n",
            "313/313 [==============================] - 1s 2ms/step - loss: 0.2161 - accuracy: 0.9365\n",
            "Test accuracy:  0.9365000128746033\n"
          ]
        }
      ],
      "source": [
        "model_checkpoint_callback = tf.keras.callbacks.ModelCheckpoint(\n",
        "    filepath='weights.best.hdf5',\n",
        "    save_weights_only=True,\n",
        "    monitor='val_loss',\n",
        "    mode='auto',\n",
        "    save_best_only=True)\n",
        "\n",
        "history = model.fit(x_train, y_train, validation_split=0.2, epochs=3, callbacks=[model_checkpoint_callback], batch_size=128)\n",
        "model.load_weights(\"weights.best.hdf5\")\n",
        "\n",
        "test_loss, test_acc = model.evaluate(x_test, y_test)\n",
        "print('Test accuracy: ', test_acc)"
      ]
    },
    {
      "cell_type": "markdown",
      "metadata": {
        "id": "6_S4ElRSl02A"
      },
      "source": [
        "# Now you have the model fully trained and now can be used for inference\n",
        "* Imagine you want to use DL model in you web app, how would you do it? \n",
        "* Can you name some use cases for the DL models?\n",
        "\n",
        "1) You can save the model to file so you don't need to train the model each time you want to use it\n",
        "2) You can then just load the trained model and use is for inference"
      ]
    },
    {
      "cell_type": "markdown",
      "metadata": {
        "id": "OEu-ajuil02A"
      },
      "source": [
        "## Save the model\n",
        "* Folder *mnist_model* will be created for the model data"
      ]
    },
    {
      "cell_type": "code",
      "execution_count": 27,
      "metadata": {
        "tags": [],
        "id": "43KIm8nYl02A"
      },
      "outputs": [],
      "source": [
        "model.save('mnist_model')"
      ]
    },
    {
      "cell_type": "markdown",
      "metadata": {
        "id": "Gzn2NJSBl02A"
      },
      "source": [
        "## Load the model back to memory and test the function"
      ]
    },
    {
      "cell_type": "code",
      "execution_count": 28,
      "metadata": {
        "tags": [],
        "colab": {
          "base_uri": "https://localhost:8080/"
        },
        "id": "FSyEiI7Sl02B",
        "outputId": "b5269ad8-a1cf-434b-9821-111a6e25e6ec"
      },
      "outputs": [
        {
          "output_type": "stream",
          "name": "stdout",
          "text": [
            "313/313 [==============================] - 1s 2ms/step - loss: 0.2161 - accuracy: 0.9365\n",
            "Test accuracy:  0.9365000128746033\n"
          ]
        }
      ],
      "source": [
        "loaded_model = keras.models.load_model('mnist_model')\n",
        "test_loss, test_acc = model.evaluate(x_test, y_test)\n",
        "print('Test accuracy: ', test_acc)"
      ]
    },
    {
      "cell_type": "markdown",
      "metadata": {
        "tags": [],
        "id": "An9sAda_l02B"
      },
      "source": [
        "# Tasks for the rest of the lecture (2p)\n",
        "* Experiment with batch_sizes, use these two settings and compare the results (e.g. compare training time and accuracy) - **(0.5p)**\n",
        "    1) Use batch_size=1\n",
        "    2) Use batch_size=1024\n",
        "    \n",
        "* Add *Dropout()* layer just before the SoftMax output layer in you architecture use these two settings and compare the results (hint: take a look at the train and val accuracy) - **(0.5p)**\n",
        "    1) Dropout(0.2)\n",
        "    2) Dropout(0.95)\n",
        "    \n",
        "* Define your own architecture using either one of the showed API and try to beat the basic model - **(1p)**"
      ]
    },
    {
      "cell_type": "code",
      "source": [
        "def test_batch_size(batch_size):\n",
        "  ann_input = keras.layers.Input(shape=(28, 28))\n",
        "  flatten = keras.layers.Flatten()(ann_input)\n",
        "  hidden = keras.layers.Dense(32, activation=tf.nn.relu)(flatten)\n",
        "  ann_output = keras.layers.Dense(10, activation=tf.nn.softmax)(hidden)\n",
        "  \n",
        "  model = keras.Model(ann_input, ann_output)\n",
        "  \n",
        "  model.compile(optimizer='adam',\n",
        "      loss = keras.losses.SparseCategoricalCrossentropy(from_logits=False),\n",
        "      metrics = ['accuracy'],\n",
        "      )\n",
        "\n",
        "  model_checkpoint_callback = tf.keras.callbacks.ModelCheckpoint(\n",
        "      filepath=f'weights.batch_size_{batch_size}.best.hdf5',\n",
        "      save_weights_only=True,\n",
        "      monitor='val_loss',\n",
        "      mode='auto',\n",
        "      save_best_only=True)\n",
        "  \n",
        "  history = model.fit(x_train, y_train, validation_split=0.2, epochs=3, callbacks=[model_checkpoint_callback], batch_size=batch_size)\n",
        "  model.load_weights(f'weights.batch_size_{batch_size}.best.hdf5')\n",
        "  \n",
        "  test_loss, test_acc = model.evaluate(x_test, y_test)\n",
        "  print(f'Test accuracy for batch size {batch_size}: {test_acc}')\n",
        "\n",
        "\n",
        "test_batch_size(1)\n",
        "test_batch_size(1024)"
      ],
      "metadata": {
        "colab": {
          "base_uri": "https://localhost:8080/"
        },
        "id": "Tym8q8XwxBUd",
        "outputId": "782b839a-dda5-49d9-b0f3-b88059bb0b6e"
      },
      "execution_count": 29,
      "outputs": [
        {
          "output_type": "stream",
          "name": "stdout",
          "text": [
            "Epoch 1/3\n",
            "48000/48000 [==============================] - 142s 3ms/step - loss: 0.2776 - accuracy: 0.9171 - val_loss: 0.2133 - val_accuracy: 0.9407\n",
            "Epoch 2/3\n",
            "48000/48000 [==============================] - 140s 3ms/step - loss: 0.1721 - accuracy: 0.9498 - val_loss: 0.1663 - val_accuracy: 0.9527\n",
            "Epoch 3/3\n",
            "48000/48000 [==============================] - 139s 3ms/step - loss: 0.1415 - accuracy: 0.9591 - val_loss: 0.1753 - val_accuracy: 0.9542\n",
            "313/313 [==============================] - 1s 2ms/step - loss: 0.1596 - accuracy: 0.9507\n",
            "Test accuracy for batch size 1: 0.9506999850273132\n",
            "Epoch 1/3\n",
            "47/47 [==============================] - 1s 11ms/step - loss: 1.3863 - accuracy: 0.6340 - val_loss: 0.7225 - val_accuracy: 0.8450\n",
            "Epoch 2/3\n",
            "47/47 [==============================] - 0s 7ms/step - loss: 0.5650 - accuracy: 0.8591 - val_loss: 0.4130 - val_accuracy: 0.8943\n",
            "Epoch 3/3\n",
            "47/47 [==============================] - 0s 8ms/step - loss: 0.3946 - accuracy: 0.8945 - val_loss: 0.3366 - val_accuracy: 0.9130\n",
            "313/313 [==============================] - 1s 3ms/step - loss: 0.3424 - accuracy: 0.9098\n",
            "Test accuracy for batch size 1024: 0.9097999930381775\n"
          ]
        }
      ]
    },
    {
      "cell_type": "code",
      "source": [
        "def test_dropout(dropout_prob):\n",
        "  ann_input = keras.layers.Input(shape=(28, 28))\n",
        "  flatten = keras.layers.Flatten()(ann_input)\n",
        "  hidden = keras.layers.Dense(32, activation=tf.nn.relu)(flatten)\n",
        "  dropout = keras.layers.Dropout(dropout_prob)(hidden)\n",
        "  ann_output = keras.layers.Dense(10, activation=tf.nn.softmax)(dropout)\n",
        "  \n",
        "  model = keras.Model(ann_input, ann_output)\n",
        "  \n",
        "  model.compile(optimizer='adam',\n",
        "      loss = keras.losses.SparseCategoricalCrossentropy(from_logits=False),\n",
        "      metrics = ['accuracy'],\n",
        "      )\n",
        "\n",
        "  model_checkpoint_callback = tf.keras.callbacks.ModelCheckpoint(\n",
        "      filepath=f'weights.dropout_{dropout_prob}.best.hdf5',\n",
        "      save_weights_only=True,\n",
        "      monitor='val_loss',\n",
        "      mode='auto',\n",
        "      save_best_only=True)\n",
        "  \n",
        "  history = model.fit(x_train, y_train, validation_split=0.2, epochs=3, callbacks=[model_checkpoint_callback], batch_size=128)\n",
        "  model.load_weights(f'weights.dropout_{dropout_prob}.best.hdf5')\n",
        "  \n",
        "  test_loss, test_acc = model.evaluate(x_test, y_test)\n",
        "  print(f'Test accuracy for dropout {dropout_prob}: {test_acc}')\n",
        "\n",
        "test_dropout(0.2)\n",
        "test_dropout(0.5)\n",
        "test_dropout(0.95)"
      ],
      "metadata": {
        "colab": {
          "base_uri": "https://localhost:8080/"
        },
        "id": "p11VvEFkxlDt",
        "outputId": "4ddcab72-7fa0-4ffb-db67-d6dd7a6ae93a"
      },
      "execution_count": 30,
      "outputs": [
        {
          "output_type": "stream",
          "name": "stdout",
          "text": [
            "Epoch 1/3\n",
            "375/375 [==============================] - 2s 4ms/step - loss: 0.7044 - accuracy: 0.7928 - val_loss: 0.2930 - val_accuracy: 0.9208\n",
            "Epoch 2/3\n",
            "375/375 [==============================] - 1s 3ms/step - loss: 0.3648 - accuracy: 0.8944 - val_loss: 0.2339 - val_accuracy: 0.9345\n",
            "Epoch 3/3\n",
            "375/375 [==============================] - 1s 3ms/step - loss: 0.3053 - accuracy: 0.9107 - val_loss: 0.2052 - val_accuracy: 0.9438\n",
            "313/313 [==============================] - 1s 2ms/step - loss: 0.2059 - accuracy: 0.9406\n",
            "Test accuracy for dropout 0.2: 0.9405999779701233\n",
            "Epoch 1/3\n",
            "375/375 [==============================] - 2s 4ms/step - loss: 2.2527 - accuracy: 0.1411 - val_loss: 1.9138 - val_accuracy: 0.5806\n",
            "Epoch 2/3\n",
            "375/375 [==============================] - 2s 4ms/step - loss: 2.1579 - accuracy: 0.1635 - val_loss: 1.6753 - val_accuracy: 0.7299\n",
            "Epoch 3/3\n",
            "375/375 [==============================] - 1s 4ms/step - loss: 2.1148 - accuracy: 0.1715 - val_loss: 1.5302 - val_accuracy: 0.7679\n",
            "313/313 [==============================] - 1s 2ms/step - loss: 1.5250 - accuracy: 0.7725\n",
            "Test accuracy for dropout 0.95: 0.7724999785423279\n"
          ]
        }
      ]
    },
    {
      "cell_type": "code",
      "source": [
        "in_layer = keras.layers.Input(shape=(28, 28, 1))\n",
        "conv1 = keras.layers.Conv2D(28, (3, 3), activation='relu', input_shape=(28, 28, 1))(in_layer)\n",
        "pool1 = keras.layers.MaxPooling2D((2, 2))(conv1)\n",
        "conv2 = keras.layers.Conv2D(13, (3, 3), activation='relu', input_shape=(13, 13, 1))(pool1)\n",
        "dropout1 = keras.layers.Dropout(0.4)(conv2)\n",
        "flatten = keras.layers.Flatten()(conv2)\n",
        "hidden = keras.layers.Dense(32, activation=tf.nn.relu)(flatten)\n",
        "dropout2 = keras.layers.Dropout(0.4)(hidden)\n",
        "ann_output = keras.layers.Dense(10, activation=tf.nn.softmax)(dropout2)\n",
        "\n",
        "model = keras.Model(in_layer, ann_output)\n",
        "\n",
        "model.compile(optimizer='adam',\n",
        "    loss = keras.losses.SparseCategoricalCrossentropy(from_logits=False),\n",
        "    metrics = ['accuracy'],\n",
        "    )\n",
        "\n",
        "# model.summary()\n",
        "\n",
        "model_checkpoint_callback = tf.keras.callbacks.ModelCheckpoint(\n",
        "    filepath=f'weights.conv.best.hdf5',\n",
        "    save_weights_only=True,\n",
        "    monitor='val_loss',\n",
        "    mode='auto',\n",
        "    save_best_only=True)\n",
        "\n",
        "history = model.fit(x_train, y_train, validation_split=0.2, epochs=3, callbacks=[model_checkpoint_callback], batch_size=128)\n",
        "model.load_weights(f'weights.conv.best.hdf5')\n",
        "\n",
        "test_loss, test_acc = model.evaluate(x_test, y_test)\n",
        "print(f'Test accuracy for CNN: {test_acc}')"
      ],
      "metadata": {
        "colab": {
          "base_uri": "https://localhost:8080/"
        },
        "id": "9opUrQIO3M8U",
        "outputId": "acdb6213-caeb-4b24-f75f-9b22c53be58e"
      },
      "execution_count": 31,
      "outputs": [
        {
          "output_type": "stream",
          "name": "stdout",
          "text": [
            "Epoch 1/3\n",
            "375/375 [==============================] - 9s 7ms/step - loss: 0.6010 - accuracy: 0.8087 - val_loss: 0.1278 - val_accuracy: 0.9640\n",
            "Epoch 2/3\n",
            "375/375 [==============================] - 2s 5ms/step - loss: 0.2301 - accuracy: 0.9316 - val_loss: 0.0858 - val_accuracy: 0.9749\n",
            "Epoch 3/3\n",
            "375/375 [==============================] - 2s 4ms/step - loss: 0.1812 - accuracy: 0.9441 - val_loss: 0.0704 - val_accuracy: 0.9789\n",
            "313/313 [==============================] - 1s 3ms/step - loss: 0.0617 - accuracy: 0.9803\n",
            "Test accuracy for CNN: 0.9803000092506409\n"
          ]
        }
      ]
    },
    {
      "cell_type": "code",
      "source": [],
      "metadata": {
        "id": "BnTwgnNk40vV"
      },
      "execution_count": 31,
      "outputs": []
    }
  ],
  "metadata": {
    "accelerator": "GPU",
    "colab": {
      "provenance": []
    },
    "file_extension": ".py",
    "kernelspec": {
      "display_name": "Python 3 (ipykernel)",
      "language": "python",
      "name": "python3"
    },
    "language_info": {
      "codemirror_mode": {
        "name": "ipython",
        "version": 3
      },
      "file_extension": ".py",
      "mimetype": "text/x-python",
      "name": "python",
      "nbconvert_exporter": "python",
      "pygments_lexer": "ipython3",
      "version": "3.10.9"
    },
    "mimetype": "text/x-python",
    "name": "python",
    "npconvert_exporter": "python",
    "pygments_lexer": "ipython3",
    "version": 3
  },
  "nbformat": 4,
  "nbformat_minor": 0
}